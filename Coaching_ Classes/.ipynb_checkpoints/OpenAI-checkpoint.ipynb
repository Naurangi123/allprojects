{
 "cells": [
  {
   "cell_type": "code",
   "execution_count": 1,
   "id": "d24eacbb-994a-42f5-be95-eef6df37651e",
   "metadata": {},
   "outputs": [
    {
     "ename": "SyntaxError",
     "evalue": "unterminated f-string literal (detected at line 11) (828127092.py, line 11)",
     "output_type": "error",
     "traceback": [
      "\u001b[1;36m  Cell \u001b[1;32mIn[1], line 11\u001b[1;36m\u001b[0m\n\u001b[1;33m    print(f\"ChatGPT : {reply})\u001b[0m\n\u001b[1;37m          ^\u001b[0m\n\u001b[1;31mSyntaxError\u001b[0m\u001b[1;31m:\u001b[0m unterminated f-string literal (detected at line 11)\n"
     ]
    }
   ],
   "source": [
    "import openai\n",
    "\n",
    "openai.api_key=\"sk-6mAFM4nFbOfihnsx-AgLQ3UeELxVYLvzwTE3kHQGfBT3BlbkFJ-ajrtuS1ylq3iBB2XJJ0J1dUjoNBZoicAsrTvB7fEA\"\n",
    "message=[{'role':'system','content':\"For assistent\"}]\n",
    "\n",
    "while True:\n",
    "    query=input(\"User :\")\n",
    "    if message:\n",
    "        message.append({\"role\":\"user\",\"content\":query},chat=openai.ChatCompletion.create(model=\"gpt-3.5-turbo\",messages=messages))\n",
    "        reply=chat.choices[0].message.content\n",
    "        print(f\"ChatGPT : {reply}\")\n",
    "        messages.append({\"role\":\"assistent\",\"content\":reply})\n"
   ]
  },
  {
   "cell_type": "code",
   "execution_count": null,
   "id": "88cfaa03-f84a-4885-b99e-33bd9e9a8d74",
   "metadata": {},
   "outputs": [],
   "source": []
  }
 ],
 "metadata": {
  "kernelspec": {
   "display_name": "Python 3 (ipykernel)",
   "language": "python",
   "name": "python3"
  },
  "language_info": {
   "codemirror_mode": {
    "name": "ipython",
    "version": 3
   },
   "file_extension": ".py",
   "mimetype": "text/x-python",
   "name": "python",
   "nbconvert_exporter": "python",
   "pygments_lexer": "ipython3",
   "version": "3.12.4"
  }
 },
 "nbformat": 4,
 "nbformat_minor": 5
}
