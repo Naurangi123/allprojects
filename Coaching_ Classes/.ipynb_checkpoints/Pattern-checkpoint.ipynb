{
 "cells": [
  {
   "cell_type": "code",
   "execution_count": 7,
   "id": "b3202218-fed7-446f-843a-7225454c93f8",
   "metadata": {},
   "outputs": [
    {
     "name": "stdout",
     "output_type": "stream",
     "text": [
      "Hello\n"
     ]
    }
   ],
   "source": [
    "print(\"Hello\")\n"
   ]
  },
  {
   "cell_type": "markdown",
   "id": "1a8af006-c12f-406a-b15c-3c1bf7ac98e2",
   "metadata": {},
   "source": [
    "## Pattern Questions"
   ]
  },
  {
   "cell_type": "code",
   "execution_count": 16,
   "id": "97fd7a18-dc28-4b6d-af79-fb9d5b0d9551",
   "metadata": {},
   "outputs": [
    {
     "name": "stdout",
     "output_type": "stream",
     "text": [
      "****\n",
      "***\n",
      "**\n",
      "*\n",
      "\n"
     ]
    }
   ],
   "source": [
    "a=5\n",
    "b=5\n",
    "for i in range(a):\n",
    "    for j in range(i+1,b):\n",
    "        print(\"\",end=\"*\")\n",
    "    print()"
   ]
  },
  {
   "cell_type": "code",
   "execution_count": 26,
   "id": "d17bd245-2803-457f-b043-8cb7444690d1",
   "metadata": {},
   "outputs": [
    {
     "name": "stdout",
     "output_type": "stream",
     "text": [
      "*\n",
      "**\n",
      "***\n",
      "****\n",
      "*****\n"
     ]
    }
   ],
   "source": [
    "a=5\n",
    "\n",
    "for i in range(1,a+1):\n",
    "    print(\"*\"*i)"
   ]
  },
  {
   "cell_type": "code",
   "execution_count": 28,
   "id": "708e9c68-49ef-4782-8387-f36bfefc5f86",
   "metadata": {},
   "outputs": [
    {
     "name": "stdout",
     "output_type": "stream",
     "text": [
      "\n",
      "*\n",
      "**\n",
      "***\n",
      "****\n",
      "*****\n",
      "******\n",
      "*******\n",
      "********\n",
      "*********\n"
     ]
    }
   ],
   "source": [
    "a=10\n",
    "for i in range(a):\n",
    "    for j in range(1,i+1):\n",
    "        print(\"*\",end=\"\")\n",
    "    print()\n",
    "    "
   ]
  },
  {
   "cell_type": "code",
   "execution_count": 29,
   "id": "950c695d-c285-49a7-84f9-9ef28495fa26",
   "metadata": {},
   "outputs": [
    {
     "name": "stdout",
     "output_type": "stream",
     "text": [
      "   *\n",
      "  **\n",
      " ***\n",
      "****\n",
      " ***\n",
      "  **\n",
      "   *\n"
     ]
    }
   ],
   "source": [
    "rows = 4  \n",
    "for i in range(1, rows + 1):\n",
    "    print(\" \" * (rows - i), end=\"\")\n",
    "    print(\"*\" * i)\n",
    "for i in range(rows - 1, 0, -1):\n",
    "    # Print leading spaces\n",
    "    print(\" \" * (rows - i), end=\"\")\n",
    "    # Print asterisks\n",
    "    print(\"*\" * i)"
   ]
  },
  {
   "cell_type": "code",
   "execution_count": 48,
   "id": "3a30a1bb-05d5-4e75-98b9-13d53ebafff8",
   "metadata": {},
   "outputs": [
    {
     "name": "stdout",
     "output_type": "stream",
     "text": [
      "   *\n",
      "  **\n",
      " ***\n",
      "****\n",
      " ***\n",
      "  **\n",
      "   *\n"
     ]
    }
   ],
   "source": [
    "rows = 4  # Number of lines for the upper part\n",
    "for i in range(1, rows + 1):\n",
    "    for j in range(rows - i):\n",
    "        print(\" \", end=\"\")\n",
    "    for k in range(i):\n",
    "        print(\"*\", end=\"\")\n",
    "    print() \n",
    "for i in range(rows - 1, 0, -1):\n",
    "    for j in range(rows - i):\n",
    "        print(\" \", end=\"\")\n",
    "    for k in range(i):\n",
    "        print(\"*\", end=\"\")\n",
    "    print()"
   ]
  },
  {
   "cell_type": "code",
   "execution_count": 37,
   "id": "4f239f06-44e5-4610-8941-c0b4986b060a",
   "metadata": {},
   "outputs": [
    {
     "name": "stdout",
     "output_type": "stream",
     "text": [
      "         *\n",
      "        **\n",
      "       ***\n",
      "      ****\n",
      "     *****\n",
      "    ******\n",
      "   *******\n",
      "  ********\n",
      " *********\n"
     ]
    }
   ],
   "source": [
    "rows = 10  # Number of lines for the upper part\n",
    "for i in range(1, rows):\n",
    "    for j in range(rows - i):\n",
    "        print(\" \", end=\"\")\n",
    "    for k in range(i):\n",
    "        print(\"*\", end=\"\")\n",
    "    print() \n",
    "for i in range(rows - 1, 0):\n",
    "    for j in range(rows - i):\n",
    "        print(\" \", end=\"\")\n",
    "    for k in range(i):\n",
    "        print(\"*\", end=\"\")\n",
    "    print()"
   ]
  },
  {
   "cell_type": "code",
   "execution_count": 81,
   "id": "b9528ece-d2db-49b5-8151-aa5e8195b0d2",
   "metadata": {},
   "outputs": [
    {
     "name": "stdout",
     "output_type": "stream",
     "text": [
      " * * * * *\n",
      " * * * *\n",
      " * * *\n",
      " * *\n",
      " *\n",
      "\n"
     ]
    }
   ],
   "source": [
    "row=6\n",
    "for i in range(row):\n",
    "    for j in range(1,row-i):\n",
    "        if row%2!=0:\n",
    "            print(\" \",end=\"\")\n",
    "        else:\n",
    "            print(\" \",end=\"*\")\n",
    "    print()\n",
    "        "
   ]
  },
  {
   "cell_type": "code",
   "execution_count": 96,
   "id": "016e8136-7423-4bcc-9391-8f4ccf4436b7",
   "metadata": {},
   "outputs": [
    {
     "name": "stdout",
     "output_type": "stream",
     "text": [
      " * * * * *\n",
      " * * * *\n",
      " * * *\n",
      " * *\n",
      " *\n",
      "\n",
      "\n",
      "*\n",
      "**\n",
      "***\n",
      "****\n",
      "*****\n",
      "******\n",
      "*****\n",
      "****\n",
      "***\n",
      "**\n",
      "*\n",
      "\n"
     ]
    }
   ],
   "source": [
    "row=6\n",
    "for i in range(row):\n",
    "    for j in range(1,row-i):\n",
    "        if row%2!=0:\n",
    "            print(\" \",end=\"\")\n",
    "        else:\n",
    "            print(\" \",end=\"*\")\n",
    "    print()\n",
    "for i in range(row):\n",
    "    for j in range(1,i+1):\n",
    "        print(\"*\",end=\"\")\n",
    "    print()\n",
    "for i in range(-1,row):\n",
    "    for j in range(1,row-i):\n",
    "            print(\"\",end=\"*\")\n",
    "    print()"
   ]
  },
  {
   "cell_type": "code",
   "execution_count": 82,
   "id": "ae967f4b-97f9-4c2e-bb23-29751ac96cc4",
   "metadata": {},
   "outputs": [
    {
     "name": "stdout",
     "output_type": "stream",
     "text": [
      "****\n",
      "***\n",
      "**\n",
      "*\n",
      "\n",
      "*\n",
      "**\n",
      "***\n",
      "****\n",
      "*****\n"
     ]
    }
   ],
   "source": [
    "a=5\n",
    "b=5\n",
    "for i in range(a):\n",
    "    for j in range(i+1,b):\n",
    "        print(\"\",end=\"*\")\n",
    "    print()\n",
    "for i in range(1,a+1):\n",
    "    print(\"*\"*i)"
   ]
  },
  {
   "cell_type": "code",
   "execution_count": 88,
   "id": "35f9987a-6b8c-40b1-9c49-aa057e632be5",
   "metadata": {},
   "outputs": [
    {
     "name": "stdout",
     "output_type": "stream",
     "text": [
      "\n",
      "1 \n",
      "2 2 \n",
      "3 3 3 \n",
      "4 4 4 4 \n",
      "5 5 5 5 5 \n",
      "6 6 6 6 6 6 \n"
     ]
    }
   ],
   "source": [
    "rows=6\n",
    "for i in range(rows+1):\n",
    "    for j in range(i):\n",
    "        print(i,end=\" \")\n",
    "    print()\n",
    "    "
   ]
  },
  {
   "cell_type": "code",
   "execution_count": 91,
   "id": "d4c0f4f6-b8c3-4347-b770-c09f02831078",
   "metadata": {},
   "outputs": [
    {
     "name": "stdout",
     "output_type": "stream",
     "text": [
      "A \n",
      "B B \n",
      "C C C \n",
      "D D D D \n",
      "E E E E E \n",
      "F F F F F F \n"
     ]
    }
   ],
   "source": [
    "rows=6\n",
    "ascii=65\n",
    "for i in range(rows):\n",
    "    for j in range(i+1):\n",
    "        alphabet = chr(ascii)\n",
    "        print(alphabet,end=\" \")\n",
    "    ascii+=1\n",
    "    print()"
   ]
  },
  {
   "cell_type": "code",
   "execution_count": 6,
   "id": "67f9edd2-310e-4830-8a2c-7f8241369c3f",
   "metadata": {},
   "outputs": [
    {
     "name": "stdout",
     "output_type": "stream",
     "text": [
      "AABBCCDDEE"
     ]
    }
   ],
   "source": [
    "rows=5\n",
    "ascii=65\n",
    "for i in range(rows):\n",
    "    for j in range(i,i+1):\n",
    "        word=chr(ascii)\n",
    "        print(word,end=\"\")\n",
    "        ascii+=1\n",
    "    print(f\"{word}\",end=\"\")\n",
    "    \n",
    "        "
   ]
  },
  {
   "cell_type": "code",
   "execution_count": 32,
   "id": "c0904aff-2a37-40e5-9a49-9591f69af7c3",
   "metadata": {},
   "outputs": [
    {
     "name": "stdout",
     "output_type": "stream",
     "text": [
      "A\n",
      "BC\n",
      "CDE\n",
      "DEFG\n",
      "EFGHI\n"
     ]
    }
   ],
   "source": [
    "\n",
    "n = 5\n",
    "ascii=65\n",
    "for i in range(n):\n",
    "    # For each line, we need to print letters starting from 'a' + i\n",
    "    for j in range(i + 1):\n",
    "        # Print the letter corresponding to 'a' + i + j\n",
    "        word=chr(ascii + i + j)\n",
    "        print(word, end='')\n",
    "    # Move to the next line after printing all letters in the current line\n",
    "    print()\n"
   ]
  },
  {
   "cell_type": "code",
   "execution_count": 29,
   "id": "3ffc9c79-ec2e-4df6-9955-88ba6128dc14",
   "metadata": {},
   "outputs": [
    {
     "name": "stdout",
     "output_type": "stream",
     "text": [
      "1\n",
      "23\n",
      "456\n",
      "78910\n"
     ]
    }
   ],
   "source": [
    "rows=4\n",
    "start=1\n",
    "for i in range(rows):\n",
    "    current=start\n",
    "    for j in range(i+1):\n",
    "        print(current,end=\"\")\n",
    "        current+=1\n",
    "    print()\n",
    "    start=current"
   ]
  },
  {
   "cell_type": "code",
   "execution_count": 35,
   "id": "39ee7d0c-9177-4ae9-9560-b4f42a53157f",
   "metadata": {},
   "outputs": [
    {
     "name": "stdout",
     "output_type": "stream",
     "text": [
      "A\n",
      "BC\n",
      "CDE\n",
      "DEFG\n",
      "EFGHI\n"
     ]
    }
   ],
   "source": [
    "rows=5\n",
    "start=65\n",
    "for i in range(rows):\n",
    "    for j in range(i+1):\n",
    "        current=chr(start+i+j)\n",
    "        print(current,end=\"\")\n",
    "    print()\n",
    "    "
   ]
  },
  {
   "cell_type": "code",
   "execution_count": 39,
   "id": "89e53268-a551-4cd0-8ed7-caae255b692d",
   "metadata": {},
   "outputs": [
    {
     "name": "stdout",
     "output_type": "stream",
     "text": [
      "     *\n",
      "    * *\n",
      "   *   *\n",
      "  *     *\n",
      " *       *\n",
      "*         *\n",
      " *       *\n",
      "  *     *\n",
      "   *   *\n",
      "    * *\n",
      "     *\n"
     ]
    }
   ],
   "source": [
    "rows = 10\n",
    "\n",
    "# Upper half of the diamond\n",
    "for i in range(rows // 2 + 1):\n",
    "    if i == 0:\n",
    "        print(' ' * (rows // 2) + '*')\n",
    "    else:\n",
    "        print(' ' * (rows // 2 - i) + '*' + ' ' * (2 * i - 1) + '*')\n",
    "\n",
    "# Lower half of the diamond\n",
    "for i in range(rows // 2 - 1, -1, -1):\n",
    "    if i == 0:\n",
    "        print(' ' * (rows // 2) + '*')\n",
    "    else:\n",
    "        print(' ' * (rows // 2 - i) + '*' + ' ' * (2 * i - 1) + '*')\n"
   ]
  },
  {
   "cell_type": "code",
   "execution_count": 40,
   "id": "bb91f95a-e071-4057-b814-273fb2072042",
   "metadata": {},
   "outputs": [
    {
     "name": "stdout",
     "output_type": "stream",
     "text": [
      "* * * * *\n",
      "*       *\n",
      "*       *\n",
      "*       *\n",
      "* * * * *\n"
     ]
    }
   ],
   "source": [
    "rows = 5\n",
    "\n",
    "for i in range(rows):\n",
    "    if i == 0 or i == rows - 1:\n",
    "        print(' '.join('*' * rows))\n",
    "    else:\n",
    "        print('*' + ' ' * (2 * (rows - 2) + 1) + '*')\n"
   ]
  },
  {
   "cell_type": "code",
   "execution_count": 42,
   "id": "18a1127b-bb7a-4bca-baea-e18f131063ef",
   "metadata": {},
   "outputs": [
    {
     "name": "stdout",
     "output_type": "stream",
     "text": [
      "    *\n",
      "   * *\n",
      "  * * *\n",
      " * * * *\n",
      "* * * * *\n"
     ]
    }
   ],
   "source": [
    "rows = 5\n",
    "for i in range(rows):\n",
    "    # Print leading spaces\n",
    "    print(' ' * (rows - i - 1), end='')\n",
    "    # Print stars with spaces\n",
    "    print(' '.join('*' * (i + 1)))\n"
   ]
  },
  {
   "cell_type": "code",
   "execution_count": 43,
   "id": "4d68a793-82bc-493f-be19-9728026034a1",
   "metadata": {},
   "outputs": [
    {
     "name": "stdout",
     "output_type": "stream",
     "text": [
      "    *\n",
      "   * *\n",
      "  *   *\n",
      " *     *\n",
      "*       *\n",
      " *     *\n",
      "  *   *\n",
      "   * *\n",
      "    *\n"
     ]
    }
   ],
   "source": [
    "rows = 5\n",
    "\n",
    "# Upper half of the diamond\n",
    "for i in range(rows):\n",
    "    if i == 0:\n",
    "        print(' ' * (rows - i - 1) + '*')\n",
    "    else:\n",
    "        print(' ' * (rows - i - 1) + '*' + ' ' * (2 * i - 1) + '*')\n",
    "\n",
    "# Lower half of the diamond\n",
    "for i in range(rows - 2, -1, -1):\n",
    "    if i == 0:\n",
    "        print(' ' * (rows - i - 1) + '*')\n",
    "    else:\n",
    "        print(' ' * (rows - i - 1) + '*' + ' ' * (2 * i - 1) + '*')\n"
   ]
  },
  {
   "cell_type": "code",
   "execution_count": 44,
   "id": "44ad9064-67d8-4703-a579-e48d19dd3f3e",
   "metadata": {},
   "outputs": [
    {
     "name": "stdout",
     "output_type": "stream",
     "text": [
      "*\n",
      "* *\n",
      "* * *\n",
      "* * * *\n",
      "* * * * *\n"
     ]
    }
   ],
   "source": [
    "rows = 5\n",
    "for i in range(1, rows + 1):\n",
    "    print(' '.join('*' * i))\n"
   ]
  },
  {
   "cell_type": "code",
   "execution_count": 45,
   "id": "900ebee1-ec31-41fb-8630-19e5d7b99f30",
   "metadata": {},
   "outputs": [
    {
     "name": "stdout",
     "output_type": "stream",
     "text": [
      "* * * * *\n",
      "* * * *\n",
      "* * *\n",
      "* *\n",
      "*\n"
     ]
    }
   ],
   "source": [
    "rows = 5\n",
    "for i in range(rows, 0, -1):\n",
    "    print(' '.join('*' * i))\n"
   ]
  },
  {
   "cell_type": "code",
   "execution_count": 51,
   "id": "9e3c0b29-4871-4f38-aa48-d6d302d54f1e",
   "metadata": {},
   "outputs": [
    {
     "name": "stdout",
     "output_type": "stream",
     "text": [
      "*\n",
      "* *\n",
      "* * *\n",
      "* * * *\n",
      "* * * * *\n",
      "* * * * * *\n",
      "* * * * * *\n",
      "* * * * *\n",
      "* * * *\n",
      "* * *\n",
      "* *\n",
      "*\n"
     ]
    }
   ],
   "source": [
    "rows = 6\n",
    "for i in range(1, rows + 1):\n",
    "    print(' '.join('*' * i))\n",
    "for i in range(rows, 0, -1):\n",
    "    print(' '.join('*' * i))\n"
   ]
  },
  {
   "cell_type": "markdown",
   "id": "a68f7283-9eba-4d40-b7cc-c667adffb121",
   "metadata": {},
   "source": [
    "    *\r\n",
    "   * *\r\n",
    "  *   *\r\n",
    " *     *\r\n",
    "*       *\r\n",
    " *     *\r\n",
    "  *   *\r\n",
    "   * *\r\n",
    "    *"
   ]
  },
  {
   "cell_type": "code",
   "execution_count": 68,
   "id": "d6a046fd-2133-4707-ab1d-73ca315afeb5",
   "metadata": {},
   "outputs": [
    {
     "name": "stdout",
     "output_type": "stream",
     "text": [
      "    A\n",
      "   B C\n",
      "  B   C\n",
      " B     C\n",
      "B       C\n",
      " E     F\n",
      "  E   F\n",
      "   E F\n",
      "    D\n"
     ]
    }
   ],
   "source": [
    "rows=5\n",
    "for i in range(rows):\n",
    "    if i==0:\n",
    "        print(\" \"*(rows-i-1)+\"A\")\n",
    "    else:\n",
    "        print(\" \"*(rows-i-1)+\"B\"+\" \"*(2*i-1)+\"C\")\n",
    "for i in range(rows-2,-1,-1):\n",
    "    if i==0:\n",
    "        print(\" \"*(rows-i-1)+\"D\")\n",
    "    else:\n",
    "        print(\" \"*(rows-i-1)+\"E\"+\" \"*(2*i-1)+\"F\")\n",
    "        "
   ]
  },
  {
   "cell_type": "code",
   "execution_count": 121,
   "id": "c1c91a12-95c5-441b-9e22-f22790c73e4f",
   "metadata": {},
   "outputs": [
    {
     "name": "stdout",
     "output_type": "stream",
     "text": [
      "\n",
      "*\n",
      "**\n",
      "***\n",
      "****\n",
      "*****\n",
      "******\n",
      "*****\n",
      "****\n",
      "***\n",
      "**\n",
      "*\n"
     ]
    }
   ],
   "source": [
    "for i in range(row):\n",
    "    for j in range(1,i+1):\n",
    "        print(\"*\",end=\"\")\n",
    "    print()\n",
    "for i in range(row):\n",
    "    for j in range(0,row-i):\n",
    "            print(\"\",end=\"*\")\n",
    "    print()"
   ]
  },
  {
   "cell_type": "code",
   "execution_count": 128,
   "id": "04364f6f-9f4c-425e-9dc4-0ef6af6a0ddd",
   "metadata": {},
   "outputs": [
    {
     "name": "stdout",
     "output_type": "stream",
     "text": [
      "\n",
      "\n",
      "\n",
      "\n",
      "\n"
     ]
    }
   ],
   "source": [
    "rows=5\n",
    "for i in range(rows):\n",
    "    if i==0 and i==rows-1:\n",
    "        print(\" \",end=\"*\")\n",
    "    print()"
   ]
  },
  {
   "cell_type": "code",
   "execution_count": 131,
   "id": "cb3e4865-2c26-4d14-b144-30a93840acc4",
   "metadata": {},
   "outputs": [
    {
     "name": "stdin",
     "output_type": "stream",
     "text": [
      "Enter the number of rows:  6\n"
     ]
    },
    {
     "name": "stdout",
     "output_type": "stream",
     "text": [
      "----------* * * * * * \n",
      "-----------* * * * * \n",
      "------------* * * * \n",
      "-------------* * * \n",
      "--------------* * \n",
      "---------------* \n"
     ]
    }
   ],
   "source": [
    "rows = int(input(\"Enter the number of rows: \"))  \n",
    "m = (2*rows)-2\n",
    "for i in range(rows-1,-1,-1):   \n",
    "        for j in range(m,0,-1):  \n",
    "            print(end=\"-\")\n",
    "        m += 1 \n",
    "        for j in range(0, i+1):  \n",
    "            print(\"*\",end=\" \")               \n",
    "        print()"
   ]
  },
  {
   "cell_type": "code",
   "execution_count": 135,
   "id": "1b6cc8f1-1402-4dd7-a4af-f80999543c03",
   "metadata": {},
   "outputs": [
    {
     "name": "stdin",
     "output_type": "stream",
     "text": [
      "Enter a number:  50\n"
     ]
    },
    {
     "name": "stdout",
     "output_type": "stream",
     "text": [
      "The largest prime number less than or equal to 50 is 47.\n"
     ]
    }
   ],
   "source": [
    "def is_prime(num):\n",
    "    \"\"\"Check if a number is prime.\"\"\"\n",
    "    if num <= 1:\n",
    "        return False\n",
    "    if num <= 3:\n",
    "        return True\n",
    "    if num % 2 == 0 or num % 3 == 0:\n",
    "        return False\n",
    "    i = 5\n",
    "    while i * i <= num:\n",
    "        if num % i == 0 or num % (i + 2) == 0:\n",
    "            return False\n",
    "        i += 6\n",
    "    return True\n",
    "\n",
    "def largest_prime_less_than_or_equal(n):\n",
    "    \"\"\"Find the largest prime number less than or equal to n.\"\"\"\n",
    "    if n < 2:\n",
    "        return None\n",
    "    for num in range(n, 1, -1):\n",
    "        if is_prime(num):\n",
    "            return num\n",
    "    return None\n",
    "\n",
    "# Example usage\n",
    "n = int(input(\"Enter a number: \"))\n",
    "result = largest_prime_less_than_or_equal(n)\n",
    "if result:\n",
    "    print(f\"The largest prime number less than or equal to {n} is {result}.\")\n",
    "else:\n",
    "    print(f\"There are no prime numbers less than or equal to {n}.\")\n"
   ]
  },
  {
   "cell_type": "code",
   "execution_count": 138,
   "id": "dd330c91-6563-42d6-83cf-e955e702b2d2",
   "metadata": {},
   "outputs": [
    {
     "name": "stdin",
     "output_type": "stream",
     "text": [
      "Enter the number 50\n"
     ]
    },
    {
     "name": "stdout",
     "output_type": "stream",
     "text": [
      "50 is not prime\n"
     ]
    }
   ],
   "source": [
    "def is_prime(num):\n",
    "    \"\"\"Check if a number is prime.\"\"\"\n",
    "    if num <= 1:\n",
    "        return False\n",
    "    if num <= 3:\n",
    "        return True\n",
    "    if num % 2 == 0 or num % 3 == 0:\n",
    "        return False\n",
    "    i = 5\n",
    "    while i * i <= num:\n",
    "        if num % i == 0 or num % (i + 2) == 0:\n",
    "            return False\n",
    "        i += 6\n",
    "    return True\n",
    "\n",
    "num=int(input(\"Enter the number\"))\n",
    "result=is_prime(num)\n",
    "if result:\n",
    "    print(f\"{num} is prime\")\n",
    "else:\n",
    "    print(f\"{num} is not prime\")"
   ]
  },
  {
   "cell_type": "code",
   "execution_count": 154,
   "id": "7bab259e-0d9f-4276-84bd-45f3e789c269",
   "metadata": {},
   "outputs": [
    {
     "data": {
      "text/html": [
       "<div>\n",
       "<style scoped>\n",
       "    .dataframe tbody tr th:only-of-type {\n",
       "        vertical-align: middle;\n",
       "    }\n",
       "\n",
       "    .dataframe tbody tr th {\n",
       "        vertical-align: top;\n",
       "    }\n",
       "\n",
       "    .dataframe thead th {\n",
       "        text-align: right;\n",
       "    }\n",
       "</style>\n",
       "<table border=\"1\" class=\"dataframe\">\n",
       "  <thead>\n",
       "    <tr style=\"text-align: right;\">\n",
       "      <th></th>\n",
       "      <th>id</th>\n",
       "      <th>Age</th>\n",
       "      <th>Score</th>\n",
       "    </tr>\n",
       "  </thead>\n",
       "  <tbody>\n",
       "    <tr>\n",
       "      <th>0</th>\n",
       "      <td>1.0</td>\n",
       "      <td>30.0</td>\n",
       "      <td>NaN</td>\n",
       "    </tr>\n",
       "    <tr>\n",
       "      <th>1</th>\n",
       "      <td>4.0</td>\n",
       "      <td>45.0</td>\n",
       "      <td>140.0</td>\n",
       "    </tr>\n",
       "    <tr>\n",
       "      <th>2</th>\n",
       "      <td>6.5</td>\n",
       "      <td>45.0</td>\n",
       "      <td>180.0</td>\n",
       "    </tr>\n",
       "    <tr>\n",
       "      <th>3</th>\n",
       "      <td>9.0</td>\n",
       "      <td>45.0</td>\n",
       "      <td>198.0</td>\n",
       "    </tr>\n",
       "  </tbody>\n",
       "</table>\n",
       "</div>"
      ],
      "text/plain": [
       "    id   Age  Score\n",
       "0  1.0  30.0    NaN\n",
       "1  4.0  45.0  140.0\n",
       "2  6.5  45.0  180.0\n",
       "3  9.0  45.0  198.0"
      ]
     },
     "execution_count": 154,
     "metadata": {},
     "output_type": "execute_result"
    }
   ],
   "source": [
    "import pandas as pd\n",
    "import numpy as np\n",
    "\n",
    "# dictionary of lists\n",
    "dict = {'id':[1, 4, np.nan, 9],\n",
    "        'Age': [30, 45, np.nan, np.nan],\n",
    "        'Score':[np.nan, 140, 180, 198]}\n",
    "\n",
    "# creating a DataFrame\n",
    "df = pd.DataFrame(dict)\n",
    "\n",
    "df.isnull().sum()\n",
    "\n",
    "# drop missing values\n",
    "df.dropna(axis = 0, how ='any')\n",
    "\n",
    "#replace null values with -999\n",
    "df.replace(to_replace = np.nan, value = -999)\n",
    "\n",
    "# Interpolate\n",
    "df.interpolate(method ='linear', limit_direction ='forward')\n"
   ]
  },
  {
   "cell_type": "code",
   "execution_count": 143,
   "id": "4b2b725b-c97d-42b0-9504-28912a146592",
   "metadata": {},
   "outputs": [
    {
     "data": {
      "text/plain": [
       "'DataCampBlackFridaySale'"
      ]
     },
     "execution_count": 143,
     "metadata": {},
     "output_type": "execute_result"
    }
   ],
   "source": [
    "def str_replace(text,ch):\n",
    "    result = ''\n",
    "    for i in text: \n",
    "            if i == ' ': \n",
    "                i = ch  \n",
    "            result += i \n",
    "    return result\n",
    "\n",
    "text = \"D t C mpBl ckFrid yS le\"\n",
    "ch = \"a\"\n",
    "\n",
    "str_replace(text,ch)\n",
    "# 'DataCampBlackFridaySale'"
   ]
  },
  {
   "cell_type": "code",
   "execution_count": 148,
   "id": "0220c895-1ffa-4345-bf06-91097f75249e",
   "metadata": {},
   "outputs": [
    {
     "name": "stdout",
     "output_type": "stream",
     "text": [
      "True\n"
     ]
    }
   ],
   "source": [
    "def can_segment_str(s, dictionary):\n",
    "    for i in range(1, len(s) + 1):\n",
    "        first_str = s[0:i]\n",
    "        if first_str in dictionary:\n",
    "            second_str = s[i:]\n",
    "            if (not second_str or second_str in dictionary or can_segment_str(second_str, dictionary)):\n",
    "                return True\n",
    "    return False\n",
    "s = \"datacamp\"\n",
    "dictionary = [\"data\", \"camp\", \"cam\", \"lack\"]\n",
    "result=can_segment_str(s, dictionary)\n",
    "print(result)"
   ]
  },
  {
   "cell_type": "code",
   "execution_count": 153,
   "id": "25e19b01-45c5-4a97-a76b-3dfca508735c",
   "metadata": {},
   "outputs": [
    {
     "data": {
      "text/plain": [
       "True"
      ]
     },
     "execution_count": 153,
     "metadata": {},
     "output_type": "execute_result"
    }
   ],
   "source": [
    "def can_segment_str(s,dictionary):\n",
    "    for i in range(1,len(s)+1):\n",
    "        first_str=s[0:i]\n",
    "        if first_str in dictionary:\n",
    "            second_str=s[i:]\n",
    "            if (not second_str or second_str in dictionary or can_segment_str(second_str,dictionary)):\n",
    "                return True\n",
    "    return False\n",
    "\n",
    "s=\"naurangil\"\n",
    "dictionary=[\"lal\",\"naurangil\",\"Naurang\",\"gilal\"]\n",
    "can_segment_str(s,dictionary)"
   ]
  },
  {
   "cell_type": "code",
   "execution_count": null,
   "id": "76954022-c96d-4545-a1af-5ac97ad8e4c3",
   "metadata": {},
   "outputs": [],
   "source": []
  }
 ],
 "metadata": {
  "kernelspec": {
   "display_name": "Python 3 (ipykernel)",
   "language": "python",
   "name": "python3"
  },
  "language_info": {
   "codemirror_mode": {
    "name": "ipython",
    "version": 3
   },
   "file_extension": ".py",
   "mimetype": "text/x-python",
   "name": "python",
   "nbconvert_exporter": "python",
   "pygments_lexer": "ipython3",
   "version": "3.12.4"
  }
 },
 "nbformat": 4,
 "nbformat_minor": 5
}
