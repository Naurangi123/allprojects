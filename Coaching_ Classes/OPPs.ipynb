{
 "cells": [
  {
   "cell_type": "code",
   "execution_count": 1,
   "id": "b161a113-d612-44e0-916b-5ad80503b74d",
   "metadata": {},
   "outputs": [
    {
     "data": {
      "image/png": "[encoded data removed]",
      "text/plain": [
       "<Figure size 1000x600 with 1 Axes>"
      ]
     },
     "metadata": {},
     "output_type": "display_data"
    }
   ],
   "source": [
    "import matplotlib.pyplot as plt\n",
    "\n",
    "# Sample data\n",
    "products = ['Product A', 'Product B', 'Product C', 'Product D']\n",
    "units_sold = [120, 80, 150, 90]\n",
    "\n",
    "# Create a bar chart\n",
    "plt.figure(figsize=(10, 6))\n",
    "plt.bar(products, units_sold, color=['#FF6384', '#36A2EB', '#FFCE56', '#4BC0C0'])\n",
    "\n",
    "# Add title and labels\n",
    "plt.title('Units Sold by Product')\n",
    "plt.xlabel('Products')\n",
    "plt.ylabel('Units Sold')\n",
    "\n",
    "# Show the plot\n",
    "plt.show()\n"
   ]
  },
  {
   "cell_type": "code",
   "execution_count": 1,
   "id": "c70c7c70-8cad-47b9-8ec5-0b7eb1eff595",
   "metadata": {},
   "outputs": [
    {
     "name": "stdout",
     "output_type": "stream",
     "text": [
      "{1: 8, 2: 9, 3: 10, 4: 11, 5: 12, 6: 13, 7: 14, 8: 15, 9: 16}\n"
     ]
    }
   ],
   "source": [
    "my_dict = {i:i+7 for i in range(1, 10)}\n",
    "print(my_dict)"
   ]
  },
  {
   "cell_type": "code",
   "execution_count": 2,
   "id": "2c53225c-489d-400c-927b-c19a16c01e50",
   "metadata": {},
   "outputs": [
    {
     "data": {
      "text/plain": [
       "'gEEKSFORgEEKS'"
      ]
     },
     "execution_count": 2,
     "metadata": {},
     "output_type": "execute_result"
    }
   ],
   "source": [
    "string = \"GeeksforGeeks\"\n",
    "string.swapcase()"
   ]
  },
  {
   "cell_type": "code",
   "execution_count": 1,
   "id": "3d859dcf-b6bb-4682-8bf4-22ab5bb00dfa",
   "metadata": {},
   "outputs": [
    {
     "name": "stdout",
     "output_type": "stream",
     "text": [
      "Battery Percentage: 20%\n",
      "Power Plugged in: False \n",
      "Battery remaining time 1193046:28:15\n"
     ]
    }
   ],
   "source": [
    "import psutil\n",
    "\n",
    "battery=psutil.sensors_battery()\n",
    "\n",
    "if battery is not None:\n",
    "    print(f\"Battery Percentage: {battery.percent}%\")\n",
    "    print(f\"Power Plugged in: {battery.power_plugged} \")\n",
    "\n",
    "    def convertTime(seconds):\n",
    "        minutes,seconds=divmod(seconds,60)\n",
    "        hours,minutes=divmod(minutes,60)\n",
    "        return \"%d:%02d:%02d\" %(hours,minutes,seconds)\n",
    "    print(\"Battery remaining time\",convertTime(battery.secsleft))\n",
    "else:\n",
    "    print(\"No battery information available\")"
   ]
  },
  {
   "cell_type": "code",
   "execution_count": 4,
   "id": "a21ac374-24e2-40de-a2e9-db5d18611522",
   "metadata": {},
   "outputs": [
    {
     "name": "stdout",
     "output_type": "stream",
     "text": [
      "Requirement already satisfied: psutil in c:\\users\\naura\\anaconda3\\lib\\site-packages (5.9.0)\n"
     ]
    }
   ],
   "source": [
    "!pip install psutil"
   ]
  },
  {
   "cell_type": "code",
   "execution_count": null,
   "id": "6058fa5f-a01d-4e3f-b4d4-d64ff55f9d4b",
   "metadata": {},
   "outputs": [],
   "source": [
    "!pip install cartopy matplotlib"
   ]
  },
  {
   "cell_type": "code",
   "execution_count": 15,
   "id": "09d88e09-6032-47da-95bf-33bf8c72f92f",
   "metadata": {},
   "outputs": [
    {
     "name": "stderr",
     "output_type": "stream",
     "text": [
      "\n",
      "A module that was compiled using NumPy 1.x cannot be run in\n",
      "NumPy 2.1.1 as it may crash. To support both 1.x and 2.x\n",
      "versions of NumPy, modules must be compiled with NumPy 2.0.\n",
      "Some module may need to rebuild instead e.g. with 'pybind11>=2.12'.\n",
      "\n",
      "If you are a user of the module, the easiest solution will be to\n",
      "downgrade to 'numpy<2' or try to upgrade the affected module.\n",
      "We expect that some modules will need time to support NumPy 2.\n",
      "\n",
      "Traceback (most recent call last):  File \"<frozen runpy>\", line 198, in _run_module_as_main\n",
      "  File \"<frozen runpy>\", line 88, in _run_code\n",
      "  File \"C:\\Users\\naura\\anaconda3\\Lib\\site-packages\\ipykernel_launcher.py\", line 17, in <module>\n",
      "    app.launch_new_instance()\n",
      "  File \"C:\\Users\\naura\\anaconda3\\Lib\\site-packages\\traitlets\\config\\application.py\", line 1075, in launch_instance\n",
      "    app.start()\n",
      "  File \"C:\\Users\\naura\\anaconda3\\Lib\\site-packages\\ipykernel\\kernelapp.py\", line 701, in start\n",
      "    self.io_loop.start()\n",
      "  File \"C:\\Users\\naura\\anaconda3\\Lib\\site-packages\\tornado\\platform\\asyncio.py\", line 205, in start\n",
      "    self.asyncio_loop.run_forever()\n",
      "  File \"C:\\Users\\naura\\anaconda3\\Lib\\asyncio\\windows_events.py\", line 322, in run_forever\n",
      "    super().run_forever()\n",
      "  File \"C:\\Users\\naura\\anaconda3\\Lib\\asyncio\\base_events.py\", line 641, in run_forever\n",
      "    self._run_once()\n",
      "  File \"C:\\Users\\naura\\anaconda3\\Lib\\asyncio\\base_events.py\", line 1987, in _run_once\n",
      "    handle._run()\n",
      "  File \"C:\\Users\\naura\\anaconda3\\Lib\\asyncio\\events.py\", line 88, in _run\n",
      "    self._context.run(self._callback, *self._args)\n",
      "  File \"C:\\Users\\naura\\anaconda3\\Lib\\site-packages\\ipykernel\\kernelbase.py\", line 534, in dispatch_queue\n",
      "    await self.process_one()\n",
      "  File \"C:\\Users\\naura\\anaconda3\\Lib\\site-packages\\ipykernel\\kernelbase.py\", line 523, in process_one\n",
      "    await dispatch(*args)\n",
      "  File \"C:\\Users\\naura\\anaconda3\\Lib\\site-packages\\ipykernel\\kernelbase.py\", line 429, in dispatch_shell\n",
      "    await result\n",
      "  File \"C:\\Users\\naura\\anaconda3\\Lib\\site-packages\\ipykernel\\kernelbase.py\", line 767, in execute_request\n",
      "    reply_content = await reply_content\n",
      "  File \"C:\\Users\\naura\\anaconda3\\Lib\\site-packages\\ipykernel\\ipkernel.py\", line 429, in do_execute\n",
      "    res = shell.run_cell(\n",
      "  File \"C:\\Users\\naura\\anaconda3\\Lib\\site-packages\\ipykernel\\zmqshell.py\", line 549, in run_cell\n",
      "    return super().run_cell(*args, **kwargs)\n",
      "  File \"C:\\Users\\naura\\anaconda3\\Lib\\site-packages\\IPython\\core\\interactiveshell.py\", line 3075, in run_cell\n",
      "    result = self._run_cell(\n",
      "  File \"C:\\Users\\naura\\anaconda3\\Lib\\site-packages\\IPython\\core\\interactiveshell.py\", line 3130, in _run_cell\n",
      "    result = runner(coro)\n",
      "  File \"C:\\Users\\naura\\anaconda3\\Lib\\site-packages\\IPython\\core\\async_helpers.py\", line 129, in _pseudo_sync_runner\n",
      "    coro.send(None)\n",
      "  File \"C:\\Users\\naura\\anaconda3\\Lib\\site-packages\\IPython\\core\\interactiveshell.py\", line 3334, in run_cell_async\n",
      "    has_raised = await self.run_ast_nodes(code_ast.body, cell_name,\n",
      "  File \"C:\\Users\\naura\\anaconda3\\Lib\\site-packages\\IPython\\core\\interactiveshell.py\", line 3517, in run_ast_nodes\n",
      "    if await self.run_code(code, result, async_=asy):\n",
      "  File \"C:\\Users\\naura\\anaconda3\\Lib\\site-packages\\IPython\\core\\interactiveshell.py\", line 3577, in run_code\n",
      "    exec(code_obj, self.user_global_ns, self.user_ns)\n",
      "  File \"C:\\Users\\naura\\AppData\\Local\\Temp\\ipykernel_17860\\1919454553.py\", line 3, in <module>\n",
      "    import matplotlib.pyplot as plt\n",
      "  File \"C:\\Users\\naura\\anaconda3\\Lib\\site-packages\\matplotlib\\__init__.py\", line 161, in <module>\n",
      "    from . import _api, _version, cbook, _docstring, rcsetup\n",
      "  File \"C:\\Users\\naura\\anaconda3\\Lib\\site-packages\\matplotlib\\rcsetup.py\", line 27, in <module>\n",
      "    from matplotlib.colors import Colormap, is_color_like\n",
      "  File \"C:\\Users\\naura\\anaconda3\\Lib\\site-packages\\matplotlib\\colors.py\", line 57, in <module>\n",
      "    from matplotlib import _api, _cm, cbook, scale\n",
      "  File \"C:\\Users\\naura\\anaconda3\\Lib\\site-packages\\matplotlib\\scale.py\", line 22, in <module>\n",
      "    from matplotlib.ticker import (\n",
      "  File \"C:\\Users\\naura\\anaconda3\\Lib\\site-packages\\matplotlib\\ticker.py\", line 143, in <module>\n",
      "    from matplotlib import transforms as mtransforms\n",
      "  File \"C:\\Users\\naura\\anaconda3\\Lib\\site-packages\\matplotlib\\transforms.py\", line 49, in <module>\n",
      "    from matplotlib._path import (\n"
     ]
    },
    {
     "ename": "ImportError",
     "evalue": "\nA module that was compiled using NumPy 1.x cannot be run in\nNumPy 2.1.1 as it may crash. To support both 1.x and 2.x\nversions of NumPy, modules must be compiled with NumPy 2.0.\nSome module may need to rebuild instead e.g. with 'pybind11>=2.12'.\n\nIf you are a user of the module, the easiest solution will be to\ndowngrade to 'numpy<2' or try to upgrade the affected module.\nWe expect that some modules will need time to support NumPy 2.\n\n",
     "output_type": "error",
     "traceback": [
      "\u001b[1;31m---------------------------------------------------------------------------\u001b[0m",
      "\u001b[1;31mImportError\u001b[0m                               Traceback (most recent call last)",
      "File \u001b[1;32m~\\AppData\\Roaming\\Python\\Python312\\site-packages\\numpy\\core\\_multiarray_umath.py:44\u001b[0m, in \u001b[0;36m__getattr__\u001b[1;34m(attr_name)\u001b[0m\n\u001b[0;32m     39\u001b[0m     \u001b[38;5;66;03m# Also print the message (with traceback).  This is because old versions\u001b[39;00m\n\u001b[0;32m     40\u001b[0m     \u001b[38;5;66;03m# of NumPy unfortunately set up the import to replace (and hide) the\u001b[39;00m\n\u001b[0;32m     41\u001b[0m     \u001b[38;5;66;03m# error.  The traceback shouldn't be needed, but e.g. pytest plugins\u001b[39;00m\n\u001b[0;32m     42\u001b[0m     \u001b[38;5;66;03m# seem to swallow it and we should be failing anyway...\u001b[39;00m\n\u001b[0;32m     43\u001b[0m     sys\u001b[38;5;241m.\u001b[39mstderr\u001b[38;5;241m.\u001b[39mwrite(msg \u001b[38;5;241m+\u001b[39m tb_msg)\n\u001b[1;32m---> 44\u001b[0m     \u001b[38;5;28;01mraise\u001b[39;00m \u001b[38;5;167;01mImportError\u001b[39;00m(msg)\n\u001b[0;32m     46\u001b[0m ret \u001b[38;5;241m=\u001b[39m \u001b[38;5;28mgetattr\u001b[39m(_multiarray_umath, attr_name, \u001b[38;5;28;01mNone\u001b[39;00m)\n\u001b[0;32m     47\u001b[0m \u001b[38;5;28;01mif\u001b[39;00m ret \u001b[38;5;129;01mis\u001b[39;00m \u001b[38;5;28;01mNone\u001b[39;00m:\n",
      "\u001b[1;31mImportError\u001b[0m: \nA module that was compiled using NumPy 1.x cannot be run in\nNumPy 2.1.1 as it may crash. To support both 1.x and 2.x\nversions of NumPy, modules must be compiled with NumPy 2.0.\nSome module may need to rebuild instead e.g. with 'pybind11>=2.12'.\n\nIf you are a user of the module, the easiest solution will be to\ndowngrade to 'numpy<2' or try to upgrade the affected module.\nWe expect that some modules will need time to support NumPy 2.\n\n"
     ]
    },
    {
     "ename": "ImportError",
     "evalue": "numpy.core.multiarray failed to import",
     "output_type": "error",
     "traceback": [
      "\u001b[1;31m---------------------------------------------------------------------------\u001b[0m",
      "\u001b[1;31mImportError\u001b[0m                               Traceback (most recent call last)",
      "Cell \u001b[1;32mIn[15], line 3\u001b[0m\n\u001b[0;32m      1\u001b[0m \u001b[38;5;28;01mimport\u001b[39;00m \u001b[38;5;21;01mcartopy\u001b[39;00m\u001b[38;5;21;01m.\u001b[39;00m\u001b[38;5;21;01mcrs\u001b[39;00m \u001b[38;5;28;01mas\u001b[39;00m \u001b[38;5;21;01mccrs\u001b[39;00m\n\u001b[0;32m      2\u001b[0m \u001b[38;5;28;01mimport\u001b[39;00m \u001b[38;5;21;01mcartopy\u001b[39;00m\u001b[38;5;21;01m.\u001b[39;00m\u001b[38;5;21;01mfeature\u001b[39;00m \u001b[38;5;28;01mas\u001b[39;00m \u001b[38;5;21;01mcfeature\u001b[39;00m\n\u001b[1;32m----> 3\u001b[0m \u001b[38;5;28;01mimport\u001b[39;00m \u001b[38;5;21;01mmatplotlib\u001b[39;00m\u001b[38;5;21;01m.\u001b[39;00m\u001b[38;5;21;01mpyplot\u001b[39;00m \u001b[38;5;28;01mas\u001b[39;00m \u001b[38;5;21;01mplt\u001b[39;00m\n\u001b[0;32m      5\u001b[0m projection\u001b[38;5;241m=\u001b[39mccrs\u001b[38;5;241m.\u001b[39mPlateCarree()\n\u001b[0;32m      6\u001b[0m fig,ax\u001b[38;5;241m=\u001b[39mplt\u001b[38;5;241m.\u001b[39msubplots(subplot_kw\u001b[38;5;241m=\u001b[39m{\u001b[38;5;124m'\u001b[39m\u001b[38;5;124mprojection\u001b[39m\u001b[38;5;124m'\u001b[39m:projection})\n",
      "File \u001b[1;32m~\\anaconda3\\Lib\\site-packages\\matplotlib\\__init__.py:161\u001b[0m\n\u001b[0;32m    157\u001b[0m \u001b[38;5;28;01mfrom\u001b[39;00m \u001b[38;5;21;01mpackaging\u001b[39;00m\u001b[38;5;21;01m.\u001b[39;00m\u001b[38;5;21;01mversion\u001b[39;00m \u001b[38;5;28;01mimport\u001b[39;00m parse \u001b[38;5;28;01mas\u001b[39;00m parse_version\n\u001b[0;32m    159\u001b[0m \u001b[38;5;66;03m# cbook must import matplotlib only within function\u001b[39;00m\n\u001b[0;32m    160\u001b[0m \u001b[38;5;66;03m# definitions, so it is safe to import from it here.\u001b[39;00m\n\u001b[1;32m--> 161\u001b[0m \u001b[38;5;28;01mfrom\u001b[39;00m \u001b[38;5;21;01m.\u001b[39;00m \u001b[38;5;28;01mimport\u001b[39;00m _api, _version, cbook, _docstring, rcsetup\n\u001b[0;32m    162\u001b[0m \u001b[38;5;28;01mfrom\u001b[39;00m \u001b[38;5;21;01mmatplotlib\u001b[39;00m\u001b[38;5;21;01m.\u001b[39;00m\u001b[38;5;21;01mcbook\u001b[39;00m \u001b[38;5;28;01mimport\u001b[39;00m sanitize_sequence\n\u001b[0;32m    163\u001b[0m \u001b[38;5;28;01mfrom\u001b[39;00m \u001b[38;5;21;01mmatplotlib\u001b[39;00m\u001b[38;5;21;01m.\u001b[39;00m\u001b[38;5;21;01m_api\u001b[39;00m \u001b[38;5;28;01mimport\u001b[39;00m MatplotlibDeprecationWarning\n",
      "File \u001b[1;32m~\\anaconda3\\Lib\\site-packages\\matplotlib\\rcsetup.py:27\u001b[0m\n\u001b[0;32m     25\u001b[0m \u001b[38;5;28;01mfrom\u001b[39;00m \u001b[38;5;21;01mmatplotlib\u001b[39;00m \u001b[38;5;28;01mimport\u001b[39;00m _api, cbook\n\u001b[0;32m     26\u001b[0m \u001b[38;5;28;01mfrom\u001b[39;00m \u001b[38;5;21;01mmatplotlib\u001b[39;00m\u001b[38;5;21;01m.\u001b[39;00m\u001b[38;5;21;01mcbook\u001b[39;00m \u001b[38;5;28;01mimport\u001b[39;00m ls_mapper\n\u001b[1;32m---> 27\u001b[0m \u001b[38;5;28;01mfrom\u001b[39;00m \u001b[38;5;21;01mmatplotlib\u001b[39;00m\u001b[38;5;21;01m.\u001b[39;00m\u001b[38;5;21;01mcolors\u001b[39;00m \u001b[38;5;28;01mimport\u001b[39;00m Colormap, is_color_like\n\u001b[0;32m     28\u001b[0m \u001b[38;5;28;01mfrom\u001b[39;00m \u001b[38;5;21;01mmatplotlib\u001b[39;00m\u001b[38;5;21;01m.\u001b[39;00m\u001b[38;5;21;01m_fontconfig_pattern\u001b[39;00m \u001b[38;5;28;01mimport\u001b[39;00m parse_fontconfig_pattern\n\u001b[0;32m     29\u001b[0m \u001b[38;5;28;01mfrom\u001b[39;00m \u001b[38;5;21;01mmatplotlib\u001b[39;00m\u001b[38;5;21;01m.\u001b[39;00m\u001b[38;5;21;01m_enums\u001b[39;00m \u001b[38;5;28;01mimport\u001b[39;00m JoinStyle, CapStyle\n",
      "File \u001b[1;32m~\\anaconda3\\Lib\\site-packages\\matplotlib\\colors.py:57\u001b[0m\n\u001b[0;32m     55\u001b[0m \u001b[38;5;28;01mimport\u001b[39;00m \u001b[38;5;21;01mmatplotlib\u001b[39;00m \u001b[38;5;28;01mas\u001b[39;00m \u001b[38;5;21;01mmpl\u001b[39;00m\n\u001b[0;32m     56\u001b[0m \u001b[38;5;28;01mimport\u001b[39;00m \u001b[38;5;21;01mnumpy\u001b[39;00m \u001b[38;5;28;01mas\u001b[39;00m \u001b[38;5;21;01mnp\u001b[39;00m\n\u001b[1;32m---> 57\u001b[0m \u001b[38;5;28;01mfrom\u001b[39;00m \u001b[38;5;21;01mmatplotlib\u001b[39;00m \u001b[38;5;28;01mimport\u001b[39;00m _api, _cm, cbook, scale\n\u001b[0;32m     58\u001b[0m \u001b[38;5;28;01mfrom\u001b[39;00m \u001b[38;5;21;01m.\u001b[39;00m\u001b[38;5;21;01m_color_data\u001b[39;00m \u001b[38;5;28;01mimport\u001b[39;00m BASE_COLORS, TABLEAU_COLORS, CSS4_COLORS, XKCD_COLORS\n\u001b[0;32m     61\u001b[0m \u001b[38;5;28;01mclass\u001b[39;00m \u001b[38;5;21;01m_ColorMapping\u001b[39;00m(\u001b[38;5;28mdict\u001b[39m):\n",
      "File \u001b[1;32m~\\anaconda3\\Lib\\site-packages\\matplotlib\\scale.py:22\u001b[0m\n\u001b[0;32m     20\u001b[0m \u001b[38;5;28;01mimport\u001b[39;00m \u001b[38;5;21;01mmatplotlib\u001b[39;00m \u001b[38;5;28;01mas\u001b[39;00m \u001b[38;5;21;01mmpl\u001b[39;00m\n\u001b[0;32m     21\u001b[0m \u001b[38;5;28;01mfrom\u001b[39;00m \u001b[38;5;21;01mmatplotlib\u001b[39;00m \u001b[38;5;28;01mimport\u001b[39;00m _api, _docstring\n\u001b[1;32m---> 22\u001b[0m \u001b[38;5;28;01mfrom\u001b[39;00m \u001b[38;5;21;01mmatplotlib\u001b[39;00m\u001b[38;5;21;01m.\u001b[39;00m\u001b[38;5;21;01mticker\u001b[39;00m \u001b[38;5;28;01mimport\u001b[39;00m (\n\u001b[0;32m     23\u001b[0m     NullFormatter, ScalarFormatter, LogFormatterSciNotation, LogitFormatter,\n\u001b[0;32m     24\u001b[0m     NullLocator, LogLocator, AutoLocator, AutoMinorLocator,\n\u001b[0;32m     25\u001b[0m     SymmetricalLogLocator, AsinhLocator, LogitLocator)\n\u001b[0;32m     26\u001b[0m \u001b[38;5;28;01mfrom\u001b[39;00m \u001b[38;5;21;01mmatplotlib\u001b[39;00m\u001b[38;5;21;01m.\u001b[39;00m\u001b[38;5;21;01mtransforms\u001b[39;00m \u001b[38;5;28;01mimport\u001b[39;00m Transform, IdentityTransform\n\u001b[0;32m     29\u001b[0m \u001b[38;5;28;01mclass\u001b[39;00m \u001b[38;5;21;01mScaleBase\u001b[39;00m:\n",
      "File \u001b[1;32m~\\anaconda3\\Lib\\site-packages\\matplotlib\\ticker.py:143\u001b[0m\n\u001b[0;32m    141\u001b[0m \u001b[38;5;28;01mimport\u001b[39;00m \u001b[38;5;21;01mmatplotlib\u001b[39;00m \u001b[38;5;28;01mas\u001b[39;00m \u001b[38;5;21;01mmpl\u001b[39;00m\n\u001b[0;32m    142\u001b[0m \u001b[38;5;28;01mfrom\u001b[39;00m \u001b[38;5;21;01mmatplotlib\u001b[39;00m \u001b[38;5;28;01mimport\u001b[39;00m _api, cbook\n\u001b[1;32m--> 143\u001b[0m \u001b[38;5;28;01mfrom\u001b[39;00m \u001b[38;5;21;01mmatplotlib\u001b[39;00m \u001b[38;5;28;01mimport\u001b[39;00m transforms \u001b[38;5;28;01mas\u001b[39;00m mtransforms\n\u001b[0;32m    145\u001b[0m _log \u001b[38;5;241m=\u001b[39m logging\u001b[38;5;241m.\u001b[39mgetLogger(\u001b[38;5;18m__name__\u001b[39m)\n\u001b[0;32m    147\u001b[0m __all__ \u001b[38;5;241m=\u001b[39m (\u001b[38;5;124m'\u001b[39m\u001b[38;5;124mTickHelper\u001b[39m\u001b[38;5;124m'\u001b[39m, \u001b[38;5;124m'\u001b[39m\u001b[38;5;124mFormatter\u001b[39m\u001b[38;5;124m'\u001b[39m, \u001b[38;5;124m'\u001b[39m\u001b[38;5;124mFixedFormatter\u001b[39m\u001b[38;5;124m'\u001b[39m,\n\u001b[0;32m    148\u001b[0m            \u001b[38;5;124m'\u001b[39m\u001b[38;5;124mNullFormatter\u001b[39m\u001b[38;5;124m'\u001b[39m, \u001b[38;5;124m'\u001b[39m\u001b[38;5;124mFuncFormatter\u001b[39m\u001b[38;5;124m'\u001b[39m, \u001b[38;5;124m'\u001b[39m\u001b[38;5;124mFormatStrFormatter\u001b[39m\u001b[38;5;124m'\u001b[39m,\n\u001b[0;32m    149\u001b[0m            \u001b[38;5;124m'\u001b[39m\u001b[38;5;124mStrMethodFormatter\u001b[39m\u001b[38;5;124m'\u001b[39m, \u001b[38;5;124m'\u001b[39m\u001b[38;5;124mScalarFormatter\u001b[39m\u001b[38;5;124m'\u001b[39m, \u001b[38;5;124m'\u001b[39m\u001b[38;5;124mLogFormatter\u001b[39m\u001b[38;5;124m'\u001b[39m,\n\u001b[1;32m   (...)\u001b[0m\n\u001b[0;32m    155\u001b[0m            \u001b[38;5;124m'\u001b[39m\u001b[38;5;124mMultipleLocator\u001b[39m\u001b[38;5;124m'\u001b[39m, \u001b[38;5;124m'\u001b[39m\u001b[38;5;124mMaxNLocator\u001b[39m\u001b[38;5;124m'\u001b[39m, \u001b[38;5;124m'\u001b[39m\u001b[38;5;124mAutoMinorLocator\u001b[39m\u001b[38;5;124m'\u001b[39m,\n\u001b[0;32m    156\u001b[0m            \u001b[38;5;124m'\u001b[39m\u001b[38;5;124mSymmetricalLogLocator\u001b[39m\u001b[38;5;124m'\u001b[39m, \u001b[38;5;124m'\u001b[39m\u001b[38;5;124mAsinhLocator\u001b[39m\u001b[38;5;124m'\u001b[39m, \u001b[38;5;124m'\u001b[39m\u001b[38;5;124mLogitLocator\u001b[39m\u001b[38;5;124m'\u001b[39m)\n",
      "File \u001b[1;32m~\\anaconda3\\Lib\\site-packages\\matplotlib\\transforms.py:49\u001b[0m\n\u001b[0;32m     46\u001b[0m \u001b[38;5;28;01mfrom\u001b[39;00m \u001b[38;5;21;01mnumpy\u001b[39;00m\u001b[38;5;21;01m.\u001b[39;00m\u001b[38;5;21;01mlinalg\u001b[39;00m \u001b[38;5;28;01mimport\u001b[39;00m inv\n\u001b[0;32m     48\u001b[0m \u001b[38;5;28;01mfrom\u001b[39;00m \u001b[38;5;21;01mmatplotlib\u001b[39;00m \u001b[38;5;28;01mimport\u001b[39;00m _api\n\u001b[1;32m---> 49\u001b[0m \u001b[38;5;28;01mfrom\u001b[39;00m \u001b[38;5;21;01mmatplotlib\u001b[39;00m\u001b[38;5;21;01m.\u001b[39;00m\u001b[38;5;21;01m_path\u001b[39;00m \u001b[38;5;28;01mimport\u001b[39;00m (\n\u001b[0;32m     50\u001b[0m     affine_transform, count_bboxes_overlapping_bbox, update_path_extents)\n\u001b[0;32m     51\u001b[0m \u001b[38;5;28;01mfrom\u001b[39;00m \u001b[38;5;21;01m.\u001b[39;00m\u001b[38;5;21;01mpath\u001b[39;00m \u001b[38;5;28;01mimport\u001b[39;00m Path\n\u001b[0;32m     53\u001b[0m DEBUG \u001b[38;5;241m=\u001b[39m \u001b[38;5;28;01mFalse\u001b[39;00m\n",
      "\u001b[1;31mImportError\u001b[0m: numpy.core.multiarray failed to import"
     ]
    }
   ],
   "source": [
    "import cartopy.crs as ccrs\n",
    "import cartopy.feature as cfeature\n",
    "import matplotlib.pyplot as plt\n",
    "\n",
    "projection=ccrs.PlateCarree()\n",
    "fig,ax=plt.subplots(subplot_kw={'projection':projection})\n",
    "ax.set_extent([-180,180,-90,90],crs=projection)\n",
    "\n",
    "ax.add_feature(cfeature.LAND,facecolor='red')\n",
    "ax.add_feature(cfeature.OCEAN,facecolor='navy')\n",
    "\n",
    "ax.gridlines()\n",
    "plt.show()"
   ]
  },
  {
   "cell_type": "code",
   "execution_count": 16,
   "id": "88e4f2b5-ca6b-4477-b14b-5835338e56bc",
   "metadata": {},
   "outputs": [
    {
     "name": "stdout",
     "output_type": "stream",
     "text": [
      "Collecting forex_python\n",
      "  Downloading forex_python-1.8-py3-none-any.whl.metadata (1.3 kB)\n",
      "Requirement already satisfied: requests in c:\\users\\naura\\appdata\\roaming\\python\\python312\\site-packages (from forex_python) (2.32.3)\n",
      "Collecting simplejson (from forex_python)\n",
      "  Using cached simplejson-3.19.3-cp312-cp312-win_amd64.whl.metadata (3.2 kB)\n",
      "Requirement already satisfied: charset-normalizer<4,>=2 in c:\\users\\naura\\appdata\\roaming\\python\\python312\\site-packages (from requests->forex_python) (3.3.2)\n",
      "Requirement already satisfied: idna<4,>=2.5 in c:\\users\\naura\\appdata\\roaming\\python\\python312\\site-packages (from requests->forex_python) (3.8)\n",
      "Requirement already satisfied: urllib3<3,>=1.21.1 in c:\\users\\naura\\appdata\\roaming\\python\\python312\\site-packages (from requests->forex_python) (2.2.2)\n",
      "Requirement already satisfied: certifi>=2017.4.17 in c:\\users\\naura\\appdata\\roaming\\python\\python312\\site-packages (from requests->forex_python) (2024.8.30)\n",
      "Downloading forex_python-1.8-py3-none-any.whl (8.2 kB)\n",
      "Using cached simplejson-3.19.3-cp312-cp312-win_amd64.whl (75 kB)\n",
      "Installing collected packages: simplejson, forex_python\n",
      "Successfully installed forex_python-1.8 simplejson-3.19.3\n"
     ]
    }
   ],
   "source": [
    "!pip install forex_python"
   ]
  },
  {
   "cell_type": "code",
   "execution_count": 11,
   "id": "b1536197-724f-4481-a6e9-4d1014dbedb9",
   "metadata": {},
   "outputs": [
    {
     "name": "stdin",
     "output_type": "stream",
     "text": [
      "Enter the amount 100\n",
      "From Currency INR\n",
      "To Currency USD\n"
     ]
    },
    {
     "name": "stdout",
     "output_type": "stream",
     "text": [
      "INR To USD 100\n"
     ]
    },
    {
     "ename": "ConnectTimeout",
     "evalue": "HTTPSConnectionPool(host='theforexapi.com', port=443): Max retries exceeded with url: /api/latest?base=INR&symbols=USD&rtype=fpy (Caused by ConnectTimeoutError(<urllib3.connection.HTTPSConnection object at 0x00000164D8173FB0>, 'Connection to theforexapi.com timed out. (connect timeout=None)'))",
     "output_type": "error",
     "traceback": [
      "\u001b[1;31m---------------------------------------------------------------------------\u001b[0m",
      "\u001b[1;31mTimeoutError\u001b[0m                              Traceback (most recent call last)",
      "File \u001b[1;32m~\\AppData\\Roaming\\Python\\Python312\\site-packages\\urllib3\\connection.py:196\u001b[0m, in \u001b[0;36mHTTPConnection._new_conn\u001b[1;34m(self)\u001b[0m\n\u001b[0;32m    195\u001b[0m \u001b[38;5;28;01mtry\u001b[39;00m:\n\u001b[1;32m--> 196\u001b[0m     sock \u001b[38;5;241m=\u001b[39m connection\u001b[38;5;241m.\u001b[39mcreate_connection(\n\u001b[0;32m    197\u001b[0m         (\u001b[38;5;28mself\u001b[39m\u001b[38;5;241m.\u001b[39m_dns_host, \u001b[38;5;28mself\u001b[39m\u001b[38;5;241m.\u001b[39mport),\n\u001b[0;32m    198\u001b[0m         \u001b[38;5;28mself\u001b[39m\u001b[38;5;241m.\u001b[39mtimeout,\n\u001b[0;32m    199\u001b[0m         source_address\u001b[38;5;241m=\u001b[39m\u001b[38;5;28mself\u001b[39m\u001b[38;5;241m.\u001b[39msource_address,\n\u001b[0;32m    200\u001b[0m         socket_options\u001b[38;5;241m=\u001b[39m\u001b[38;5;28mself\u001b[39m\u001b[38;5;241m.\u001b[39msocket_options,\n\u001b[0;32m    201\u001b[0m     )\n\u001b[0;32m    202\u001b[0m \u001b[38;5;28;01mexcept\u001b[39;00m socket\u001b[38;5;241m.\u001b[39mgaierror \u001b[38;5;28;01mas\u001b[39;00m e:\n",
      "File \u001b[1;32m~\\AppData\\Roaming\\Python\\Python312\\site-packages\\urllib3\\util\\connection.py:85\u001b[0m, in \u001b[0;36mcreate_connection\u001b[1;34m(address, timeout, source_address, socket_options)\u001b[0m\n\u001b[0;32m     84\u001b[0m \u001b[38;5;28;01mtry\u001b[39;00m:\n\u001b[1;32m---> 85\u001b[0m     \u001b[38;5;28;01mraise\u001b[39;00m err\n\u001b[0;32m     86\u001b[0m \u001b[38;5;28;01mfinally\u001b[39;00m:\n\u001b[0;32m     87\u001b[0m     \u001b[38;5;66;03m# Break explicitly a reference cycle\u001b[39;00m\n",
      "File \u001b[1;32m~\\AppData\\Roaming\\Python\\Python312\\site-packages\\urllib3\\util\\connection.py:73\u001b[0m, in \u001b[0;36mcreate_connection\u001b[1;34m(address, timeout, source_address, socket_options)\u001b[0m\n\u001b[0;32m     72\u001b[0m     sock\u001b[38;5;241m.\u001b[39mbind(source_address)\n\u001b[1;32m---> 73\u001b[0m sock\u001b[38;5;241m.\u001b[39mconnect(sa)\n\u001b[0;32m     74\u001b[0m \u001b[38;5;66;03m# Break explicitly a reference cycle\u001b[39;00m\n",
      "\u001b[1;31mTimeoutError\u001b[0m: [WinError 10060] A connection attempt failed because the connected party did not properly respond after a period of time, or established connection failed because connected host has failed to respond",
      "\nThe above exception was the direct cause of the following exception:\n",
      "\u001b[1;31mConnectTimeoutError\u001b[0m                       Traceback (most recent call last)",
      "File \u001b[1;32m~\\AppData\\Roaming\\Python\\Python312\\site-packages\\urllib3\\connectionpool.py:789\u001b[0m, in \u001b[0;36mHTTPConnectionPool.urlopen\u001b[1;34m(self, method, url, body, headers, retries, redirect, assert_same_host, timeout, pool_timeout, release_conn, chunked, body_pos, preload_content, decode_content, **response_kw)\u001b[0m\n\u001b[0;32m    788\u001b[0m \u001b[38;5;66;03m# Make the request on the HTTPConnection object\u001b[39;00m\n\u001b[1;32m--> 789\u001b[0m response \u001b[38;5;241m=\u001b[39m \u001b[38;5;28mself\u001b[39m\u001b[38;5;241m.\u001b[39m_make_request(\n\u001b[0;32m    790\u001b[0m     conn,\n\u001b[0;32m    791\u001b[0m     method,\n\u001b[0;32m    792\u001b[0m     url,\n\u001b[0;32m    793\u001b[0m     timeout\u001b[38;5;241m=\u001b[39mtimeout_obj,\n\u001b[0;32m    794\u001b[0m     body\u001b[38;5;241m=\u001b[39mbody,\n\u001b[0;32m    795\u001b[0m     headers\u001b[38;5;241m=\u001b[39mheaders,\n\u001b[0;32m    796\u001b[0m     chunked\u001b[38;5;241m=\u001b[39mchunked,\n\u001b[0;32m    797\u001b[0m     retries\u001b[38;5;241m=\u001b[39mretries,\n\u001b[0;32m    798\u001b[0m     response_conn\u001b[38;5;241m=\u001b[39mresponse_conn,\n\u001b[0;32m    799\u001b[0m     preload_content\u001b[38;5;241m=\u001b[39mpreload_content,\n\u001b[0;32m    800\u001b[0m     decode_content\u001b[38;5;241m=\u001b[39mdecode_content,\n\u001b[0;32m    801\u001b[0m     \u001b[38;5;241m*\u001b[39m\u001b[38;5;241m*\u001b[39mresponse_kw,\n\u001b[0;32m    802\u001b[0m )\n\u001b[0;32m    804\u001b[0m \u001b[38;5;66;03m# Everything went great!\u001b[39;00m\n",
      "File \u001b[1;32m~\\AppData\\Roaming\\Python\\Python312\\site-packages\\urllib3\\connectionpool.py:490\u001b[0m, in \u001b[0;36mHTTPConnectionPool._make_request\u001b[1;34m(self, conn, method, url, body, headers, retries, timeout, chunked, response_conn, preload_content, decode_content, enforce_content_length)\u001b[0m\n\u001b[0;32m    489\u001b[0m         new_e \u001b[38;5;241m=\u001b[39m _wrap_proxy_error(new_e, conn\u001b[38;5;241m.\u001b[39mproxy\u001b[38;5;241m.\u001b[39mscheme)\n\u001b[1;32m--> 490\u001b[0m     \u001b[38;5;28;01mraise\u001b[39;00m new_e\n\u001b[0;32m    492\u001b[0m \u001b[38;5;66;03m# conn.request() calls http.client.*.request, not the method in\u001b[39;00m\n\u001b[0;32m    493\u001b[0m \u001b[38;5;66;03m# urllib3.request. It also calls makefile (recv) on the socket.\u001b[39;00m\n",
      "File \u001b[1;32m~\\AppData\\Roaming\\Python\\Python312\\site-packages\\urllib3\\connectionpool.py:466\u001b[0m, in \u001b[0;36mHTTPConnectionPool._make_request\u001b[1;34m(self, conn, method, url, body, headers, retries, timeout, chunked, response_conn, preload_content, decode_content, enforce_content_length)\u001b[0m\n\u001b[0;32m    465\u001b[0m \u001b[38;5;28;01mtry\u001b[39;00m:\n\u001b[1;32m--> 466\u001b[0m     \u001b[38;5;28mself\u001b[39m\u001b[38;5;241m.\u001b[39m_validate_conn(conn)\n\u001b[0;32m    467\u001b[0m \u001b[38;5;28;01mexcept\u001b[39;00m (SocketTimeout, BaseSSLError) \u001b[38;5;28;01mas\u001b[39;00m e:\n",
      "File \u001b[1;32m~\\AppData\\Roaming\\Python\\Python312\\site-packages\\urllib3\\connectionpool.py:1095\u001b[0m, in \u001b[0;36mHTTPSConnectionPool._validate_conn\u001b[1;34m(self, conn)\u001b[0m\n\u001b[0;32m   1094\u001b[0m \u001b[38;5;28;01mif\u001b[39;00m conn\u001b[38;5;241m.\u001b[39mis_closed:\n\u001b[1;32m-> 1095\u001b[0m     conn\u001b[38;5;241m.\u001b[39mconnect()\n\u001b[0;32m   1097\u001b[0m \u001b[38;5;66;03m# TODO revise this, see https://github.com/urllib3/urllib3/issues/2791\u001b[39;00m\n",
      "File \u001b[1;32m~\\AppData\\Roaming\\Python\\Python312\\site-packages\\urllib3\\connection.py:615\u001b[0m, in \u001b[0;36mHTTPSConnection.connect\u001b[1;34m(self)\u001b[0m\n\u001b[0;32m    614\u001b[0m sock: socket\u001b[38;5;241m.\u001b[39msocket \u001b[38;5;241m|\u001b[39m ssl\u001b[38;5;241m.\u001b[39mSSLSocket\n\u001b[1;32m--> 615\u001b[0m \u001b[38;5;28mself\u001b[39m\u001b[38;5;241m.\u001b[39msock \u001b[38;5;241m=\u001b[39m sock \u001b[38;5;241m=\u001b[39m \u001b[38;5;28mself\u001b[39m\u001b[38;5;241m.\u001b[39m_new_conn()\n\u001b[0;32m    616\u001b[0m server_hostname: \u001b[38;5;28mstr\u001b[39m \u001b[38;5;241m=\u001b[39m \u001b[38;5;28mself\u001b[39m\u001b[38;5;241m.\u001b[39mhost\n",
      "File \u001b[1;32m~\\AppData\\Roaming\\Python\\Python312\\site-packages\\urllib3\\connection.py:205\u001b[0m, in \u001b[0;36mHTTPConnection._new_conn\u001b[1;34m(self)\u001b[0m\n\u001b[0;32m    204\u001b[0m \u001b[38;5;28;01mexcept\u001b[39;00m SocketTimeout \u001b[38;5;28;01mas\u001b[39;00m e:\n\u001b[1;32m--> 205\u001b[0m     \u001b[38;5;28;01mraise\u001b[39;00m ConnectTimeoutError(\n\u001b[0;32m    206\u001b[0m         \u001b[38;5;28mself\u001b[39m,\n\u001b[0;32m    207\u001b[0m         \u001b[38;5;124mf\u001b[39m\u001b[38;5;124m\"\u001b[39m\u001b[38;5;124mConnection to \u001b[39m\u001b[38;5;132;01m{\u001b[39;00m\u001b[38;5;28mself\u001b[39m\u001b[38;5;241m.\u001b[39mhost\u001b[38;5;132;01m}\u001b[39;00m\u001b[38;5;124m timed out. (connect timeout=\u001b[39m\u001b[38;5;132;01m{\u001b[39;00m\u001b[38;5;28mself\u001b[39m\u001b[38;5;241m.\u001b[39mtimeout\u001b[38;5;132;01m}\u001b[39;00m\u001b[38;5;124m)\u001b[39m\u001b[38;5;124m\"\u001b[39m,\n\u001b[0;32m    208\u001b[0m     ) \u001b[38;5;28;01mfrom\u001b[39;00m \u001b[38;5;21;01me\u001b[39;00m\n\u001b[0;32m    210\u001b[0m \u001b[38;5;28;01mexcept\u001b[39;00m \u001b[38;5;167;01mOSError\u001b[39;00m \u001b[38;5;28;01mas\u001b[39;00m e:\n",
      "\u001b[1;31mConnectTimeoutError\u001b[0m: (<urllib3.connection.HTTPSConnection object at 0x00000164D8173FB0>, 'Connection to theforexapi.com timed out. (connect timeout=None)')",
      "\nThe above exception was the direct cause of the following exception:\n",
      "\u001b[1;31mMaxRetryError\u001b[0m                             Traceback (most recent call last)",
      "File \u001b[1;32m~\\AppData\\Roaming\\Python\\Python312\\site-packages\\requests\\adapters.py:667\u001b[0m, in \u001b[0;36mHTTPAdapter.send\u001b[1;34m(self, request, stream, timeout, verify, cert, proxies)\u001b[0m\n\u001b[0;32m    666\u001b[0m \u001b[38;5;28;01mtry\u001b[39;00m:\n\u001b[1;32m--> 667\u001b[0m     resp \u001b[38;5;241m=\u001b[39m conn\u001b[38;5;241m.\u001b[39murlopen(\n\u001b[0;32m    668\u001b[0m         method\u001b[38;5;241m=\u001b[39mrequest\u001b[38;5;241m.\u001b[39mmethod,\n\u001b[0;32m    669\u001b[0m         url\u001b[38;5;241m=\u001b[39murl,\n\u001b[0;32m    670\u001b[0m         body\u001b[38;5;241m=\u001b[39mrequest\u001b[38;5;241m.\u001b[39mbody,\n\u001b[0;32m    671\u001b[0m         headers\u001b[38;5;241m=\u001b[39mrequest\u001b[38;5;241m.\u001b[39mheaders,\n\u001b[0;32m    672\u001b[0m         redirect\u001b[38;5;241m=\u001b[39m\u001b[38;5;28;01mFalse\u001b[39;00m,\n\u001b[0;32m    673\u001b[0m         assert_same_host\u001b[38;5;241m=\u001b[39m\u001b[38;5;28;01mFalse\u001b[39;00m,\n\u001b[0;32m    674\u001b[0m         preload_content\u001b[38;5;241m=\u001b[39m\u001b[38;5;28;01mFalse\u001b[39;00m,\n\u001b[0;32m    675\u001b[0m         decode_content\u001b[38;5;241m=\u001b[39m\u001b[38;5;28;01mFalse\u001b[39;00m,\n\u001b[0;32m    676\u001b[0m         retries\u001b[38;5;241m=\u001b[39m\u001b[38;5;28mself\u001b[39m\u001b[38;5;241m.\u001b[39mmax_retries,\n\u001b[0;32m    677\u001b[0m         timeout\u001b[38;5;241m=\u001b[39mtimeout,\n\u001b[0;32m    678\u001b[0m         chunked\u001b[38;5;241m=\u001b[39mchunked,\n\u001b[0;32m    679\u001b[0m     )\n\u001b[0;32m    681\u001b[0m \u001b[38;5;28;01mexcept\u001b[39;00m (ProtocolError, \u001b[38;5;167;01mOSError\u001b[39;00m) \u001b[38;5;28;01mas\u001b[39;00m err:\n",
      "File \u001b[1;32m~\\AppData\\Roaming\\Python\\Python312\\site-packages\\urllib3\\connectionpool.py:843\u001b[0m, in \u001b[0;36mHTTPConnectionPool.urlopen\u001b[1;34m(self, method, url, body, headers, retries, redirect, assert_same_host, timeout, pool_timeout, release_conn, chunked, body_pos, preload_content, decode_content, **response_kw)\u001b[0m\n\u001b[0;32m    841\u001b[0m     new_e \u001b[38;5;241m=\u001b[39m ProtocolError(\u001b[38;5;124m\"\u001b[39m\u001b[38;5;124mConnection aborted.\u001b[39m\u001b[38;5;124m\"\u001b[39m, new_e)\n\u001b[1;32m--> 843\u001b[0m retries \u001b[38;5;241m=\u001b[39m retries\u001b[38;5;241m.\u001b[39mincrement(\n\u001b[0;32m    844\u001b[0m     method, url, error\u001b[38;5;241m=\u001b[39mnew_e, _pool\u001b[38;5;241m=\u001b[39m\u001b[38;5;28mself\u001b[39m, _stacktrace\u001b[38;5;241m=\u001b[39msys\u001b[38;5;241m.\u001b[39mexc_info()[\u001b[38;5;241m2\u001b[39m]\n\u001b[0;32m    845\u001b[0m )\n\u001b[0;32m    846\u001b[0m retries\u001b[38;5;241m.\u001b[39msleep()\n",
      "File \u001b[1;32m~\\AppData\\Roaming\\Python\\Python312\\site-packages\\urllib3\\util\\retry.py:519\u001b[0m, in \u001b[0;36mRetry.increment\u001b[1;34m(self, method, url, response, error, _pool, _stacktrace)\u001b[0m\n\u001b[0;32m    518\u001b[0m     reason \u001b[38;5;241m=\u001b[39m error \u001b[38;5;129;01mor\u001b[39;00m ResponseError(cause)\n\u001b[1;32m--> 519\u001b[0m     \u001b[38;5;28;01mraise\u001b[39;00m MaxRetryError(_pool, url, reason) \u001b[38;5;28;01mfrom\u001b[39;00m \u001b[38;5;21;01mreason\u001b[39;00m  \u001b[38;5;66;03m# type: ignore[arg-type]\u001b[39;00m\n\u001b[0;32m    521\u001b[0m log\u001b[38;5;241m.\u001b[39mdebug(\u001b[38;5;124m\"\u001b[39m\u001b[38;5;124mIncremented Retry for (url=\u001b[39m\u001b[38;5;124m'\u001b[39m\u001b[38;5;132;01m%s\u001b[39;00m\u001b[38;5;124m'\u001b[39m\u001b[38;5;124m): \u001b[39m\u001b[38;5;132;01m%r\u001b[39;00m\u001b[38;5;124m\"\u001b[39m, url, new_retry)\n",
      "\u001b[1;31mMaxRetryError\u001b[0m: HTTPSConnectionPool(host='theforexapi.com', port=443): Max retries exceeded with url: /api/latest?base=INR&symbols=USD&rtype=fpy (Caused by ConnectTimeoutError(<urllib3.connection.HTTPSConnection object at 0x00000164D8173FB0>, 'Connection to theforexapi.com timed out. (connect timeout=None)'))",
      "\nDuring handling of the above exception, another exception occurred:\n",
      "\u001b[1;31mConnectTimeout\u001b[0m                            Traceback (most recent call last)",
      "Cell \u001b[1;32mIn[11], line 9\u001b[0m\n\u001b[0;32m      6\u001b[0m to_currency\u001b[38;5;241m=\u001b[39m\u001b[38;5;28minput\u001b[39m(\u001b[38;5;124m\"\u001b[39m\u001b[38;5;124mTo Currency\u001b[39m\u001b[38;5;124m\"\u001b[39m)\u001b[38;5;241m.\u001b[39mupper()\n\u001b[0;32m      8\u001b[0m \u001b[38;5;28mprint\u001b[39m(from_currency,\u001b[38;5;124m\"\u001b[39m\u001b[38;5;124mTo\u001b[39m\u001b[38;5;124m\"\u001b[39m,to_currency,amount)\n\u001b[1;32m----> 9\u001b[0m result\u001b[38;5;241m=\u001b[39mc\u001b[38;5;241m.\u001b[39mconvert(from_currency,to_currency,amount)\n\u001b[0;32m     11\u001b[0m \u001b[38;5;28mprint\u001b[39m(result)\n",
      "File \u001b[1;32m~\\anaconda3\\Lib\\site-packages\\forex_python\\converter.py:95\u001b[0m, in \u001b[0;36mCurrencyRates.convert\u001b[1;34m(self, base_cur, dest_cur, amount, date_obj)\u001b[0m\n\u001b[0;32m     93\u001b[0m payload \u001b[38;5;241m=\u001b[39m {\u001b[38;5;124m'\u001b[39m\u001b[38;5;124mbase\u001b[39m\u001b[38;5;124m'\u001b[39m: base_cur, \u001b[38;5;124m'\u001b[39m\u001b[38;5;124msymbols\u001b[39m\u001b[38;5;124m'\u001b[39m: dest_cur, \u001b[38;5;124m'\u001b[39m\u001b[38;5;124mrtype\u001b[39m\u001b[38;5;124m'\u001b[39m: \u001b[38;5;124m'\u001b[39m\u001b[38;5;124mfpy\u001b[39m\u001b[38;5;124m'\u001b[39m}\n\u001b[0;32m     94\u001b[0m source_url \u001b[38;5;241m=\u001b[39m \u001b[38;5;28mself\u001b[39m\u001b[38;5;241m.\u001b[39m_source_url() \u001b[38;5;241m+\u001b[39m date_str\n\u001b[1;32m---> 95\u001b[0m response \u001b[38;5;241m=\u001b[39m requests\u001b[38;5;241m.\u001b[39mget(source_url, params\u001b[38;5;241m=\u001b[39mpayload)\n\u001b[0;32m     96\u001b[0m \u001b[38;5;28;01mif\u001b[39;00m response\u001b[38;5;241m.\u001b[39mstatus_code \u001b[38;5;241m==\u001b[39m \u001b[38;5;241m200\u001b[39m:\n\u001b[0;32m     97\u001b[0m     rate \u001b[38;5;241m=\u001b[39m \u001b[38;5;28mself\u001b[39m\u001b[38;5;241m.\u001b[39m_get_decoded_rate(\n\u001b[0;32m     98\u001b[0m         response, dest_cur, use_decimal\u001b[38;5;241m=\u001b[39muse_decimal, date_str\u001b[38;5;241m=\u001b[39mdate_str)\n",
      "File \u001b[1;32m~\\AppData\\Roaming\\Python\\Python312\\site-packages\\requests\\api.py:73\u001b[0m, in \u001b[0;36mget\u001b[1;34m(url, params, **kwargs)\u001b[0m\n\u001b[0;32m     62\u001b[0m \u001b[38;5;28;01mdef\u001b[39;00m \u001b[38;5;21mget\u001b[39m(url, params\u001b[38;5;241m=\u001b[39m\u001b[38;5;28;01mNone\u001b[39;00m, \u001b[38;5;241m*\u001b[39m\u001b[38;5;241m*\u001b[39mkwargs):\n\u001b[0;32m     63\u001b[0m \u001b[38;5;250m    \u001b[39m\u001b[38;5;124mr\u001b[39m\u001b[38;5;124;03m\"\"\"Sends a GET request.\u001b[39;00m\n\u001b[0;32m     64\u001b[0m \n\u001b[0;32m     65\u001b[0m \u001b[38;5;124;03m    :param url: URL for the new :class:`Request` object.\u001b[39;00m\n\u001b[1;32m   (...)\u001b[0m\n\u001b[0;32m     70\u001b[0m \u001b[38;5;124;03m    :rtype: requests.Response\u001b[39;00m\n\u001b[0;32m     71\u001b[0m \u001b[38;5;124;03m    \"\"\"\u001b[39;00m\n\u001b[1;32m---> 73\u001b[0m     \u001b[38;5;28;01mreturn\u001b[39;00m request(\u001b[38;5;124m\"\u001b[39m\u001b[38;5;124mget\u001b[39m\u001b[38;5;124m\"\u001b[39m, url, params\u001b[38;5;241m=\u001b[39mparams, \u001b[38;5;241m*\u001b[39m\u001b[38;5;241m*\u001b[39mkwargs)\n",
      "File \u001b[1;32m~\\AppData\\Roaming\\Python\\Python312\\site-packages\\requests\\api.py:59\u001b[0m, in \u001b[0;36mrequest\u001b[1;34m(method, url, **kwargs)\u001b[0m\n\u001b[0;32m     55\u001b[0m \u001b[38;5;66;03m# By using the 'with' statement we are sure the session is closed, thus we\u001b[39;00m\n\u001b[0;32m     56\u001b[0m \u001b[38;5;66;03m# avoid leaving sockets open which can trigger a ResourceWarning in some\u001b[39;00m\n\u001b[0;32m     57\u001b[0m \u001b[38;5;66;03m# cases, and look like a memory leak in others.\u001b[39;00m\n\u001b[0;32m     58\u001b[0m \u001b[38;5;28;01mwith\u001b[39;00m sessions\u001b[38;5;241m.\u001b[39mSession() \u001b[38;5;28;01mas\u001b[39;00m session:\n\u001b[1;32m---> 59\u001b[0m     \u001b[38;5;28;01mreturn\u001b[39;00m session\u001b[38;5;241m.\u001b[39mrequest(method\u001b[38;5;241m=\u001b[39mmethod, url\u001b[38;5;241m=\u001b[39murl, \u001b[38;5;241m*\u001b[39m\u001b[38;5;241m*\u001b[39mkwargs)\n",
      "File \u001b[1;32m~\\AppData\\Roaming\\Python\\Python312\\site-packages\\requests\\sessions.py:589\u001b[0m, in \u001b[0;36mSession.request\u001b[1;34m(self, method, url, params, data, headers, cookies, files, auth, timeout, allow_redirects, proxies, hooks, stream, verify, cert, json)\u001b[0m\n\u001b[0;32m    584\u001b[0m send_kwargs \u001b[38;5;241m=\u001b[39m {\n\u001b[0;32m    585\u001b[0m     \u001b[38;5;124m\"\u001b[39m\u001b[38;5;124mtimeout\u001b[39m\u001b[38;5;124m\"\u001b[39m: timeout,\n\u001b[0;32m    586\u001b[0m     \u001b[38;5;124m\"\u001b[39m\u001b[38;5;124mallow_redirects\u001b[39m\u001b[38;5;124m\"\u001b[39m: allow_redirects,\n\u001b[0;32m    587\u001b[0m }\n\u001b[0;32m    588\u001b[0m send_kwargs\u001b[38;5;241m.\u001b[39mupdate(settings)\n\u001b[1;32m--> 589\u001b[0m resp \u001b[38;5;241m=\u001b[39m \u001b[38;5;28mself\u001b[39m\u001b[38;5;241m.\u001b[39msend(prep, \u001b[38;5;241m*\u001b[39m\u001b[38;5;241m*\u001b[39msend_kwargs)\n\u001b[0;32m    591\u001b[0m \u001b[38;5;28;01mreturn\u001b[39;00m resp\n",
      "File \u001b[1;32m~\\AppData\\Roaming\\Python\\Python312\\site-packages\\requests\\sessions.py:703\u001b[0m, in \u001b[0;36mSession.send\u001b[1;34m(self, request, **kwargs)\u001b[0m\n\u001b[0;32m    700\u001b[0m start \u001b[38;5;241m=\u001b[39m preferred_clock()\n\u001b[0;32m    702\u001b[0m \u001b[38;5;66;03m# Send the request\u001b[39;00m\n\u001b[1;32m--> 703\u001b[0m r \u001b[38;5;241m=\u001b[39m adapter\u001b[38;5;241m.\u001b[39msend(request, \u001b[38;5;241m*\u001b[39m\u001b[38;5;241m*\u001b[39mkwargs)\n\u001b[0;32m    705\u001b[0m \u001b[38;5;66;03m# Total elapsed time of the request (approximately)\u001b[39;00m\n\u001b[0;32m    706\u001b[0m elapsed \u001b[38;5;241m=\u001b[39m preferred_clock() \u001b[38;5;241m-\u001b[39m start\n",
      "File \u001b[1;32m~\\AppData\\Roaming\\Python\\Python312\\site-packages\\requests\\adapters.py:688\u001b[0m, in \u001b[0;36mHTTPAdapter.send\u001b[1;34m(self, request, stream, timeout, verify, cert, proxies)\u001b[0m\n\u001b[0;32m    685\u001b[0m \u001b[38;5;28;01mif\u001b[39;00m \u001b[38;5;28misinstance\u001b[39m(e\u001b[38;5;241m.\u001b[39mreason, ConnectTimeoutError):\n\u001b[0;32m    686\u001b[0m     \u001b[38;5;66;03m# TODO: Remove this in 3.0.0: see #2811\u001b[39;00m\n\u001b[0;32m    687\u001b[0m     \u001b[38;5;28;01mif\u001b[39;00m \u001b[38;5;129;01mnot\u001b[39;00m \u001b[38;5;28misinstance\u001b[39m(e\u001b[38;5;241m.\u001b[39mreason, NewConnectionError):\n\u001b[1;32m--> 688\u001b[0m         \u001b[38;5;28;01mraise\u001b[39;00m ConnectTimeout(e, request\u001b[38;5;241m=\u001b[39mrequest)\n\u001b[0;32m    690\u001b[0m \u001b[38;5;28;01mif\u001b[39;00m \u001b[38;5;28misinstance\u001b[39m(e\u001b[38;5;241m.\u001b[39mreason, ResponseError):\n\u001b[0;32m    691\u001b[0m     \u001b[38;5;28;01mraise\u001b[39;00m RetryError(e, request\u001b[38;5;241m=\u001b[39mrequest)\n",
      "\u001b[1;31mConnectTimeout\u001b[0m: HTTPSConnectionPool(host='theforexapi.com', port=443): Max retries exceeded with url: /api/latest?base=INR&symbols=USD&rtype=fpy (Caused by ConnectTimeoutError(<urllib3.connection.HTTPSConnection object at 0x00000164D8173FB0>, 'Connection to theforexapi.com timed out. (connect timeout=None)'))"
     ]
    }
   ],
   "source": [
    "from forex_python.converter import CurrencyRates\n",
    "c=CurrencyRates()\n",
    "\n",
    "amount=int(input(\"Enter the amount\"))\n",
    "from_currency=input(\"From Currency\").upper()\n",
    "to_currency=input(\"To Currency\").upper()\n",
    "\n",
    "print(from_currency,\"To\",to_currency,amount)\n",
    "result=c.convert(from_currency,to_currency,amount)\n",
    "\n",
    "print(result)\n"
   ]
  },
  {
   "cell_type": "code",
   "execution_count": 22,
   "id": "e5d2444b-4a2c-4930-87a4-fe6f608737c9",
   "metadata": {},
   "outputs": [
    {
     "name": "stdout",
     "output_type": "stream",
     "text": [
      "Collecting langid\n",
      "  Downloading langid-1.1.6.tar.gz (1.9 MB)\n",
      "     ---------------------------------------- 0.0/1.9 MB ? eta -:--:--\n",
      "      --------------------------------------- 0.0/1.9 MB 660.6 kB/s eta 0:00:03\n",
      "     - -------------------------------------- 0.1/1.9 MB 787.7 kB/s eta 0:00:03\n",
      "     -- ------------------------------------- 0.1/1.9 MB 804.6 kB/s eta 0:00:03\n",
      "     ---- ----------------------------------- 0.2/1.9 MB 1.1 MB/s eta 0:00:02\n",
      "     ----- ---------------------------------- 0.3/1.9 MB 1.2 MB/s eta 0:00:02\n",
      "     ------ --------------------------------- 0.3/1.9 MB 1.2 MB/s eta 0:00:02\n",
      "     ------- -------------------------------- 0.3/1.9 MB 1.1 MB/s eta 0:00:02\n",
      "     --------- ------------------------------ 0.5/1.9 MB 1.3 MB/s eta 0:00:02\n",
      "     ------------ --------------------------- 0.6/1.9 MB 1.5 MB/s eta 0:00:01\n",
      "     ---------------- ----------------------- 0.8/1.9 MB 1.6 MB/s eta 0:00:01\n",
      "     -------------------- ------------------- 1.0/1.9 MB 1.9 MB/s eta 0:00:01\n",
      "     ----------------------- ---------------- 1.1/1.9 MB 2.0 MB/s eta 0:00:01\n",
      "     --------------------------- ------------ 1.3/1.9 MB 2.2 MB/s eta 0:00:01\n",
      "     ------------------------------ --------- 1.5/1.9 MB 2.2 MB/s eta 0:00:01\n",
      "     ---------------------------------- ----- 1.6/1.9 MB 2.3 MB/s eta 0:00:01\n",
      "     ------------------------------------- -- 1.8/1.9 MB 2.4 MB/s eta 0:00:01\n",
      "     ---------------------------------------  1.9/1.9 MB 2.5 MB/s eta 0:00:01\n",
      "     ---------------------------------------- 1.9/1.9 MB 2.4 MB/s eta 0:00:00\n",
      "  Preparing metadata (setup.py): started\n",
      "  Preparing metadata (setup.py): finished with status 'done'\n",
      "Requirement already satisfied: numpy in c:\\users\\naura\\anaconda3\\lib\\site-packages (from langid) (1.26.4)\n",
      "Building wheels for collected packages: langid\n",
      "  Building wheel for langid (setup.py): started\n",
      "  Building wheel for langid (setup.py): finished with status 'done'\n",
      "  Created wheel for langid: filename=langid-1.1.6-py3-none-any.whl size=1941179 sha256=f0a4a4f657e5eb3ee36f7d9722615ffb92c3ae5cca6e70d959ddd086df6b3fdd\n",
      "  Stored in directory: c:\\users\\naura\\appdata\\local\\pip\\cache\\wheels\\3c\\bc\\9d\\266e27289b9019680d65d9b608c37bff1eff565b001c977ec5\n",
      "Successfully built langid\n",
      "Installing collected packages: langid\n",
      "Successfully installed langid-1.1.6\n"
     ]
    }
   ],
   "source": [
    "!pip install langid"
   ]
  },
  {
   "cell_type": "code",
   "execution_count": 10,
   "id": "a6f2d563-e85c-4d30-94a4-b8ce3c7f2cea",
   "metadata": {},
   "outputs": [
    {
     "name": "stdin",
     "output_type": "stream",
     "text": [
      "Enter any Language : ye bediya\n"
     ]
    },
    {
     "name": "stdout",
     "output_type": "stream",
     "text": [
      "en\n"
     ]
    }
   ],
   "source": [
    "import langid\n",
    "\n",
    "def detect_language(text):\n",
    "    return langid.classify(text)[0]\n",
    "text=input(\"Enter any Language :\")\n",
    "print(detect_language(text))"
   ]
  },
  {
   "cell_type": "code",
   "execution_count": 27,
   "id": "8c29e201-e173-42b6-b6ca-04f108b7747e",
   "metadata": {},
   "outputs": [
    {
     "name": "stdout",
     "output_type": "stream",
     "text": [
      "Collecting pyautogui\n",
      "  Using cached PyAutoGUI-0.9.54.tar.gz (61 kB)\n",
      "  Installing build dependencies: started\n",
      "  Installing build dependencies: finished with status 'done'\n",
      "  Getting requirements to build wheel: started\n",
      "  Getting requirements to build wheel: finished with status 'done'\n",
      "  Preparing metadata (pyproject.toml): started\n",
      "  Preparing metadata (pyproject.toml): finished with status 'done'\n"
     ]
    },
    {
     "name": "stderr",
     "output_type": "stream",
     "text": [
      "ERROR: Could not find a version that satisfies the requirement time (from versions: none)\n",
      "ERROR: No matching distribution found for time\n"
     ]
    }
   ],
   "source": [
    "!pip install pyautogui time"
   ]
  },
  {
   "cell_type": "code",
   "execution_count": null,
   "id": "f9305fa8-b0eb-44ac-a361-74f0069cbf79",
   "metadata": {},
   "outputs": [],
   "source": [
    "import pyautogui\n",
    "import time\n",
    "\n",
    "while True:\n",
    "    pyautogui.moveRel(0,10)\n",
    "    time.sleep(2)"
   ]
  },
  {
   "cell_type": "code",
   "execution_count": null,
   "id": "c29c4394-b87a-4408-8266-00cffdce2b29",
   "metadata": {},
   "outputs": [],
   "source": [
    "import pywhatkit\n",
    "from PIL import Image\n",
    "\n",
    "Image.open(\"wolf.png\")\n",
    "\n",
    "pywhatkit.image_to_ascii_art('wolf.png','MyArt')\n",
    "read_file=open('MyArt.txt','r')\n",
    "print(read_file.read())"
   ]
  },
  {
   "cell_type": "code",
   "execution_count": null,
   "id": "738f3d82-de75-41b5-88c7-92b7ad515b69",
   "metadata": {},
   "outputs": [],
   "source": [
    "###\n",
    "\n",
    "from textblob import textBlob\n",
    "\n",
    "def Convert(string):\n",
    "    li=list(string.split())\n",
    "\n",
    "return li\n",
    "\n",
    "str1=input(\"Enter the Word : \")\n",
    "words=Convert(str1)\n",
    "corrected_words=[]\n",
    "for i in words:\n",
    "    corrected_words.append(TextBlob(i))\n",
    "\n",
    "print(\"Wrong words : \",words)\n",
    "print(\"Corrected words are : \")\n",
    "for i in corrected_words:\n",
    "    print(i.correct(),end=\" \")"
   ]
  },
  {
   "cell_type": "markdown",
   "id": "034eaba8-1f1f-47c4-9e8e-ba2c82e51cc2",
   "metadata": {},
   "source": [
    "### Text to Handwriting"
   ]
  },
  {
   "cell_type": "code",
   "execution_count": null,
   "id": "5ee85157-f1d3-44be-aaa1-56ee12311d7b",
   "metadata": {},
   "outputs": [],
   "source": [
    "import pywhatkit as kit\n",
    "import cv2\n",
    "\n",
    "handwritten=input(\"Enter your text convert in handwriting : \")\n",
    "kit.text_to_handwriting(Handwritten,save_to=\"handwriting.png\")\n",
    "\n",
    "img=cv2.imread('Text to Hand',img)\n",
    "cv2.waitKey(0)\n",
    "cv2.destroyAllWindows()"
   ]
  },
  {
   "cell_type": "code",
   "execution_count": 1,
   "id": "fb2c9f26-b5a0-4c7a-b77f-1faeaa085e21",
   "metadata": {},
   "outputs": [
    {
     "name": "stdout",
     "output_type": "stream",
     "text": [
      "Requirement already satisfied: matplotlib in c:\\users\\naura\\anaconda3\\lib\\site-packages (3.8.4)\n",
      "Requirement already satisfied: contourpy>=1.0.1 in c:\\users\\naura\\anaconda3\\lib\\site-packages (from matplotlib) (1.2.0)\n",
      "Requirement already satisfied: cycler>=0.10 in c:\\users\\naura\\anaconda3\\lib\\site-packages (from matplotlib) (0.11.0)\n",
      "Requirement already satisfied: fonttools>=4.22.0 in c:\\users\\naura\\anaconda3\\lib\\site-packages (from matplotlib) (4.51.0)\n",
      "Requirement already satisfied: kiwisolver>=1.3.1 in c:\\users\\naura\\anaconda3\\lib\\site-packages (from matplotlib) (1.4.4)\n",
      "Requirement already satisfied: numpy>=1.21 in c:\\users\\naura\\anaconda3\\lib\\site-packages (from matplotlib) (1.26.4)\n",
      "Requirement already satisfied: packaging>=20.0 in c:\\users\\naura\\anaconda3\\lib\\site-packages (from matplotlib) (23.2)\n",
      "Requirement already satisfied: pillow>=8 in c:\\users\\naura\\appdata\\roaming\\python\\python312\\site-packages (from matplotlib) (10.4.0)\n",
      "Requirement already satisfied: pyparsing>=2.3.1 in c:\\users\\naura\\anaconda3\\lib\\site-packages (from matplotlib) (3.0.9)\n",
      "Requirement already satisfied: python-dateutil>=2.7 in c:\\users\\naura\\anaconda3\\lib\\site-packages (from matplotlib) (2.9.0.post0)\n",
      "Requirement already satisfied: six>=1.5 in c:\\users\\naura\\anaconda3\\lib\\site-packages (from python-dateutil>=2.7->matplotlib) (1.16.0)\n"
     ]
    }
   ],
   "source": [
    "!pip install matplotlib"
   ]
  },
  {
   "cell_type": "code",
   "execution_count": null,
   "id": "1d31d171-b20f-4135-9f2d-2825f50aacd5",
   "metadata": {},
   "outputs": [],
   "source": [
    "import matplotlib.pyplot as plt\n",
    "import matplotlib.patches as mpatches\n",
    "\n",
    "fig, ax = plt.subplots(figsize=(12, 8))\n",
    "\n",
    "# Define function to draw a table-like box for each entity\n",
    "def draw_entity(x, y, width, height, title, attributes):\n",
    "    rect = plt.Rectangle((x, y), width, height, fill=None, edgecolor='black', linewidth=1.5)\n",
    "    ax.add_patch(rect)\n",
    "    plt.text(x + width / 2, y + height - 0.2, title, fontsize=10, ha='center', va='top', fontweight='bold')\n",
    "    \n",
    "    for i, attr in enumerate(attributes):\n",
    "        plt.text(x + 0.1, y + height - (i + 1) * 0.3, attr, fontsize=9, ha='left', va='top')\n",
    "\n",
    "# Define function to draw a relationship line between two entities\n",
    "def draw_relationship(x1, y1, x2, y2, label=\"\"):\n",
    "    ax.annotate(\"\", xy=(x2, y2), xytext=(x1, y1), arrowprops=dict(arrowstyle=\"->\", lw=1.5))\n",
    "    if label:\n",
    "        plt.text((x1 + x2) / 2, (y1 + y2) / 2, label, fontsize=9, ha='center', va='center')\n",
    "\n",
    "# Drawing the entities\n",
    "draw_entity(0, 5, 2.5, 2.8, 'User', ['UserID (PK)', 'Username', 'Email', 'Password', 'FirstName', 'LastName', 'Address', 'PhoneNumber', 'DateJoined'])\n",
    "draw_entity(5, 5, 2.5, 1.4, 'Category', ['CategoryID (PK)', 'Name', 'Description'])\n",
    "draw_entity(10, 5, 2.5, 2.4, 'Product', ['ProductID (PK)', 'Name', 'Description', 'Price', 'StockQuantity', 'ImageURL', 'CategoryID (FK)'])\n",
    "draw_entity(0, 2, 2.5, 2, 'Order', ['OrderID (PK)', 'UserID (FK)', 'OrderDate', 'ShippingAddress', 'TotalAmount', 'Status'])\n",
    "draw_entity(5, 2, 2.5, 1.4, 'Review', ['ReviewID (PK)', 'ProductID (FK)', 'UserID (FK)', 'Rating', 'Comment', 'ReviewDate'])\n",
    "draw_entity(0, 0, 2.5, 1.4, 'OrderItem', ['OrderItemID (PK)', 'OrderID (FK)', 'ProductID (FK)', 'Quantity', 'Price'])\n",
    "draw_entity(5, 0, 2.5, 1.0, 'Cart', ['CartID (PK)', 'UserID (FK)'])\n",
    "draw_entity(10, 0, 2.5, 1.4, 'CartItem', ['CartItemID (PK)', 'CartID (FK)', 'ProductID (FK)', 'Quantity'])\n",
    "\n",
    "# Drawing the relationships\n",
    "draw_relationship(1.25, 4.5, 1.25, 4, 'Has')\n",
    "draw_relationship(1.25, 1.5, 1.25, 1.4)\n",
    "draw_relationship(6.25, 4.5, 11.25, 4.5, 'Has')\n",
    "draw_relationship(6.25, 4, 6.25, 3.5, 'Reviewed By')\n",
    "draw_relationship(11.25, 1.5, 6.25, 1.5)\n",
    "draw_relationship(6.25, 0.5, 11.25, 0.5)\n",
    "draw_relationship(1.25, 1, 6.25, 1)\n",
    "\n",
    "plt.xlim(-1, 13)\n",
    "plt.ylim(-1, 8)\n",
    "plt.axis('off')\n",
    "plt.show()\n"
   ]
  },
  {
   "cell_type": "code",
   "execution_count": 3,
   "id": "bb8a59c9-f79f-4b30-a355-e4ad32d5558c",
   "metadata": {},
   "outputs": [
    {
     "data": {
      "image/png": "[encoded data removed]",
      "text/plain": [
       "<Figure size 1200x800 with 1 Axes>"
      ]
     },
     "metadata": {},
     "output_type": "display_data"
    }
   ],
   "source": [
    "fig, ax = plt.subplots(figsize=(12, 8))\n",
    "\n",
    "# Define function to draw a table-like box for each entity with app name\n",
    "def draw_entity_with_app(x, y, width, height, title, app, attributes):\n",
    "    rect = plt.Rectangle((x, y), width, height, fill=None, edgecolor='black', linewidth=1.5)\n",
    "    ax.add_patch(rect)\n",
    "    plt.text(x + width / 2, y + height - 0.2, title, fontsize=10, ha='center', va='top', fontweight='bold')\n",
    "    plt.text(x + width / 2, y + height - 0.5, f'App: {app}', fontsize=8, ha='center', va='top', color='blue')\n",
    "    \n",
    "    for i, attr in enumerate(attributes):\n",
    "        plt.text(x + 0.1, y + height - (i + 2) * 0.3, attr, fontsize=9, ha='left', va='top')\n",
    "\n",
    "# Drawing the entities with associated apps\n",
    "draw_entity_with_app(0, 5, 2.5, 2.8, 'User', 'users', ['UserID (PK)', 'Username', 'Email', 'Password', 'FirstName', 'LastName', 'Address', 'PhoneNumber', 'DateJoined'])\n",
    "draw_entity_with_app(5, 5, 2.5, 1.4, 'Category', 'products', ['CategoryID (PK)', 'Name', 'Description'])\n",
    "draw_entity_with_app(10, 5, 2.5, 2.4, 'Product', 'products', ['ProductID (PK)', 'Name', 'Description', 'Price', 'StockQuantity', 'ImageURL', 'CategoryID (FK)'])\n",
    "draw_entity_with_app(0, 2, 2.5, 2, 'Order', 'orders', ['OrderID (PK)', 'UserID (FK)', 'OrderDate', 'ShippingAddress', 'TotalAmount', 'Status'])\n",
    "draw_entity_with_app(5, 2, 2.5, 1.4, 'Review', 'products', ['ReviewID (PK)', 'ProductID (FK)', 'UserID (FK)', 'Rating', 'Comment', 'ReviewDate'])\n",
    "draw_entity_with_app(0, 0, 2.5, 1.4, 'OrderItem', 'orders', ['OrderItemID (PK)', 'OrderID (FK)', 'ProductID (FK)', 'Quantity', 'Price'])\n",
    "draw_entity_with_app(5, 0, 2.5, 1.0, 'Cart', 'orders', ['CartID (PK)', 'UserID (FK)'])\n",
    "draw_entity_with_app(10, 0, 2.5, 1.4, 'CartItem', 'orders', ['CartItemID (PK)', 'CartID (FK)', 'ProductID (FK)', 'Quantity'])\n",
    "\n",
    "# Drawing the relationships\n",
    "draw_relationship(1.25, 4.5, 1.25, 4, 'Has')\n",
    "draw_relationship(1.25, 1.5, 1.25, 1.4)\n",
    "draw_relationship(6.25, 4.5, 11.25, 4.5, 'Has')\n",
    "draw_relationship(6.25, 4, 6.25, 3.5, 'Reviewed By')\n",
    "draw_relationship(11.25, 1.5, 6.25, 1.5)\n",
    "draw_relationship(6.25, 0.5, 11.25, 0.5)\n",
    "draw_relationship(1.25, 1, 6.25, 1)\n",
    "\n",
    "plt.xlim(-1, 13)\n",
    "plt.ylim(-1, 8)\n",
    "plt.axis('off')\n",
    "plt.show()\n"
   ]
  },
  {
   "cell_type": "code",
   "execution_count": null,
   "id": "b73f56c6-4f77-4576-87e0-99b6146c715a",
   "metadata": {},
   "outputs": [],
   "source": []
  },
  {
   "cell_type": "markdown",
   "id": "72306cbd-9b66-4efb-8b06-7e5f1456680d",
   "metadata": {},
   "source": [
    "# Object Oriented Programming System"
   ]
  },
  {
   "cell_type": "code",
   "execution_count": null,
   "id": "b55a6e5a-f5ad-4aef-9064-06c256fc0062",
   "metadata": {},
   "outputs": [],
   "source": [
    "##Creating Classes and Objects in Python.\n",
    "class Person:\n",
    "    def species(self,name,type):\n",
    "        self.speciece=name\n",
    "        self.type=type\n",
    "\n",
    "    def nature(self,nature):\n",
    "        self.nature_type=nature\n",
    "\n",
    "    def work(self,work):\n",
    "        self.work=work\n",
    "\n",
    "    def display(self):\n",
    "        return f\"A person species is {self.speciece} and type {self.type} and nature of human is {self.nature_type} and work of this species is {self.work}\"\n",
    "\n",
    "obj=Person()\n",
    "obj.species(\"home\",\"specience\")\n",
    "obj.nature(\"good but cruel\")\n",
    "obj.work(\"helping but sometimes denied\")\n",
    "obj.display()"
   ]
  },
  {
   "cell_type": "code",
   "execution_count": 16,
   "id": "c2184fd2-d875-4049-81d8-d305a97e64da",
   "metadata": {},
   "outputs": [
    {
     "data": {
      "text/plain": [
       "'Student Name is Jack and he is B.Tech student and his branch is CSE.'"
      ]
     },
     "execution_count": 16,
     "metadata": {},
     "output_type": "execute_result"
    }
   ],
   "source": [
    "###Encapsulation\n",
    "\n",
    "class Student:\n",
    "\n",
    "    def __init__(self):\n",
    "        self.name='Jack'\n",
    "        self.course=\"B.Tech\"\n",
    "    def branch(self):\n",
    "        self.branchs=\"CSE\"\n",
    "    def display(self):\n",
    "        return f\"Student Name is {self.name} and he is {self.course} student and his branch is {self.branchs}.\"\n",
    "        \n",
    "obj=Student()\n",
    "obj.branch()\n",
    "obj.display()"
   ]
  },
  {
   "cell_type": "markdown",
   "id": "170a0b7a-19fd-45c4-acdb-3bf8e84950f9",
   "metadata": {},
   "source": [
    "# Abstraction"
   ]
  },
  {
   "cell_type": "markdown",
   "id": "b89b8696-c6a2-452a-8d10-c1834c2432f7",
   "metadata": {},
   "source": [
    "#### Abstraction class are the class where method are only declared not defined. abstract method are decalred by @abstracmethod decorator.abstract class can not be initiated it means we can not cerate object of abstract class.abstarct class must be inherit.when every abstarct class inherit then it medantory to override all abstarct method"
   ]
  },
  {
   "cell_type": "code",
   "execution_count": 16,
   "id": "8062ee95-a05f-4ede-ad9f-4de08e995019",
   "metadata": {},
   "outputs": [
    {
     "name": "stdout",
     "output_type": "stream",
     "text": [
      "Welcome to abstarct methods\n",
      "hey folks\n",
      "2500000.0\n",
      "this is done\n"
     ]
    }
   ],
   "source": [
    "from abc import ABC,abstractmethod\n",
    "\n",
    "class AbstractClass123(ABC):\n",
    "\n",
    "    def show(self):\n",
    "        print(\"Welcome to abstarct methods\")\n",
    "\n",
    "    @abstractmethod\n",
    "    def greet(self):\n",
    "        pass\n",
    "    @abstractmethod\n",
    "    def calculate(self,p,r,t):\n",
    "        pass\n",
    "\n",
    "class Demo(AbstractClass123):\n",
    "\n",
    "    def greet(self):\n",
    "        print(\"hey folks\")\n",
    "    def calculate(self,p,r,t):\n",
    "        value=p*r*t/100\n",
    "        print(value)\n",
    "    def complete(self):\n",
    "            print(\"this is done\")\n",
    "\n",
    "obj=Demo()\n",
    "obj.show()\n",
    "obj.greet()\n",
    "obj.calculate(5000000,10,5)\n",
    "obj.complete()"
   ]
  },
  {
   "cell_type": "code",
   "execution_count": 21,
   "id": "36cbd024-6a56-4474-804b-107d04a5903d",
   "metadata": {},
   "outputs": [
    {
     "name": "stdout",
     "output_type": "stream",
     "text": [
      "10\n"
     ]
    },
    {
     "data": {
      "text/plain": [
       "40"
      ]
     },
     "execution_count": 21,
     "metadata": {},
     "output_type": "execute_result"
    }
   ],
   "source": [
    "##Abstraction\n",
    "\n",
    "class MyClass:\n",
    "\n",
    "    def __init__(self):\n",
    "        self.__y=10\n",
    "\n",
    "    def impData(self,):\n",
    "        self.__x=20\n",
    "        self.__z=20\n",
    "        return self.__x+self.__z\n",
    "\n",
    "m=MyClass()\n",
    "#Note When we access the private variable then we write 1.class object name or instancename->class Name->variale name.\n",
    "print(m._MyClass__y)\n",
    "\n",
    "m.impData()"
   ]
  },
  {
   "cell_type": "code",
   "execution_count": 32,
   "id": "a7556940-db71-4d12-bfa9-756b5875a1c8",
   "metadata": {},
   "outputs": [
    {
     "name": "stdout",
     "output_type": "stream",
     "text": [
      "Access by Method Public Variable is=> (10) and protected variable is => (20) and Private variable is => (30).\n",
      "Accessed by Instances 30\n"
     ]
    }
   ],
   "source": [
    "# Understanding between public and private variable\n",
    "\n",
    "class Info:\n",
    "\n",
    "    def __init__(self):\n",
    "        self.x=10#Public variable\n",
    "        self._y=20#protected variable\n",
    "        self.__z=30#private variable\n",
    "        \n",
    "\n",
    "    def display(self):\n",
    "        return f\"Public Variable is=> ({self.x}) and protected variable is => ({self._y}) and Private variable is => ({self._Info__z}).\"\n",
    "\n",
    "\n",
    "obj=Info()\n",
    "print(\"Access by Method\",obj.display())\n",
    "\n",
    "print(\"Accessed by Instances\",obj._Info__z)"
   ]
  },
  {
   "cell_type": "code",
   "execution_count": 42,
   "id": "013e6018-f04d-41d6-b195-d371f6115903",
   "metadata": {},
   "outputs": [
    {
     "name": "stdout",
     "output_type": "stream",
     "text": [
      "Hello my name is Krishna\n",
      "I'm 23 old.\n",
      "I obtain total marks  900\n"
     ]
    }
   ],
   "source": [
    "# Programs\n",
    "\n",
    "class Student:\n",
    "    def __init__(self):\n",
    "        self.name=\"Krishna\"\n",
    "        self.age=23\n",
    "        self.marks=900\n",
    "\n",
    "    def talk(self):\n",
    "        print(\"Hello my name is\",self.name)\n",
    "        print(f\"I'm {self.age} old.\")\n",
    "        print(\"I obtain total marks \",self.marks)\n",
    "\n",
    "obj=Student()\n",
    "obj.talk()"
   ]
  },
  {
   "cell_type": "code",
   "execution_count": 6,
   "id": "a905ee4d-d852-43a4-a511-a354ec15bdb6",
   "metadata": {},
   "outputs": [
    {
     "name": "stdin",
     "output_type": "stream",
     "text": [
      "How Many Students. 2\n",
      "Enter name : POR\n",
      "Enter marks : 550\n"
     ]
    },
    {
     "name": "stdout",
     "output_type": "stream",
     "text": [
      "Hii ! POR\n",
      "Your marks 550\n",
      "you got second division/grade\n",
      "------------------------------\n"
     ]
    },
    {
     "name": "stdin",
     "output_type": "stream",
     "text": [
      "Enter name : abc\n",
      "Enter marks : 590\n"
     ]
    },
    {
     "name": "stdout",
     "output_type": "stream",
     "text": [
      "Hii ! abc\n",
      "Your marks 590\n",
      "you got second division/grade\n",
      "------------------------------\n"
     ]
    }
   ],
   "source": [
    "class Student:\n",
    "    def __init__(self,name='',marks=0):\n",
    "        self.name=name\n",
    "        self.marks=marks\n",
    "\n",
    "    def display(self):\n",
    "        print(\"Hii !\",self.name)\n",
    "        print(\"Your marks\",self.marks)\n",
    "    def calculate(self):\n",
    "        if self.marks>=600:\n",
    "            print(\"You got first division/grade\")\n",
    "        elif self.marks>=500:\n",
    "            print(\"you got second division/grade\")\n",
    "        else:\n",
    "            print(\"You got third division/grade\")\n",
    "\n",
    "\n",
    "n=int(input(\"How Many Students.\"))\n",
    "\n",
    "i=0\n",
    "while(i<n):\n",
    "    name=input(\"Enter name :\")\n",
    "    marks=int(input(\"Enter marks :\"))\n",
    "\n",
    "    s=Student(name,marks)\n",
    "    s.display()\n",
    "    s.calculate()\n",
    "    i+=1\n",
    "    print(\"------------------------------\")"
   ]
  },
  {
   "cell_type": "markdown",
   "id": "b0392605-e867-43ab-8def-46849fd75946",
   "metadata": {},
   "source": [
    "# Instance Method Programs"
   ]
  },
  {
   "cell_type": "code",
   "execution_count": 5,
   "id": "c346b46a-d565-4b9a-aeb9-da8dc0061bf6",
   "metadata": {},
   "outputs": [
    {
     "name": "stdin",
     "output_type": "stream",
     "text": [
      "How many Students 2\n",
      "Enter name Abc\n",
      "Enter the Marks 500\n"
     ]
    },
    {
     "name": "stdout",
     "output_type": "stream",
     "text": [
      "Hii Abc\n",
      "Your Marks 500\n",
      "--------------------------------\n"
     ]
    },
    {
     "name": "stdin",
     "output_type": "stream",
     "text": [
      "Enter name Xyz\n",
      "Enter the Marks 600\n"
     ]
    },
    {
     "name": "stdout",
     "output_type": "stream",
     "text": [
      "Hii Xyz\n",
      "Your Marks 600\n",
      "--------------------------------\n"
     ]
    }
   ],
   "source": [
    "#setter and getter \n",
    "\n",
    "class Student:\n",
    "    def setName(self,name):\n",
    "        self.name=name\n",
    "    def getName(self):\n",
    "        return self.name\n",
    "    def setMarks(self,marks):\n",
    "        self.marks=marks\n",
    "    def getMarks(self):\n",
    "        return self.marks\n",
    "n=int(input(\"How many Students\"))\n",
    "\n",
    "i=0\n",
    "while(i<n):\n",
    "    s=Student()\n",
    "    name=input(\"Enter name\")\n",
    "    s.setName(name)\n",
    "    marks=int(input(\"Enter the Marks\"))\n",
    "    s.setMarks(marks)\n",
    "\n",
    "    print('Hii',s.getName())\n",
    "    print('Your Marks',s.getMarks())\n",
    "    i+=1\n",
    "    print(\"--------------------------------\")\n",
    "    "
   ]
  },
  {
   "cell_type": "markdown",
   "id": "dcc0a59b-c33b-438a-96b4-b5e8354dd265",
   "metadata": {},
   "source": [
    "# @Classmethod Programs\n",
    "\n",
    "#### These method act on class level.these methods act as class variable or static variables.class methos are used as @classmethod decorator above them and By default the first parameters are class methods cls which refer to class itself.The classmethod() function is used to define a method that is bound the class not the instance of the of the class.it means it can call in class rather than with instances."
   ]
  },
  {
   "cell_type": "code",
   "execution_count": 2,
   "id": "09010398-fdee-47f3-ab2c-83326b7db58b",
   "metadata": {},
   "outputs": [
    {
     "name": "stdout",
     "output_type": "stream",
     "text": [
      "Sparrow files with 2 wings\n",
      "Piegon files with 2 wings\n"
     ]
    }
   ],
   "source": [
    "class Bird:\n",
    "    wings=2\n",
    "\n",
    "    @classmethod\n",
    "    def fly(cls,name):\n",
    "        print(\"{} files with {} wings\".format(name,cls.wings))\n",
    "\n",
    "Bird.fly(\"Sparrow\")\n",
    "Bird.fly('Piegon')"
   ]
  },
  {
   "cell_type": "code",
   "execution_count": 2,
   "id": "9be605d3-a5c7-430e-a065-5343f61fe6ea",
   "metadata": {},
   "outputs": [
    {
     "name": "stdout",
     "output_type": "stream",
     "text": [
      "('Course provided by', ['Abc', 'User'])\n",
      "('Course provided by', ['Abc', 'User'])\n",
      "welcome\n"
     ]
    }
   ],
   "source": [
    "class Demo:\n",
    "    course=\"B.Tech\"\n",
    "    clist=[]\n",
    "    def __init__(self,name):\n",
    "        self.name=name\n",
    "        Demo.clist.append(self.name)\n",
    "\n",
    "    @classmethod\n",
    "    def get_course(cls):\n",
    "        return \"Course provided by\",Demo.clist\n",
    "    @staticmethod\n",
    "    def display():\n",
    "        return \"welcome\"\n",
    "\n",
    "obj1=Demo(\"Abc\")\n",
    "obj2=Demo(\"User\")\n",
    "print(obj1.get_course())\n",
    "print(obj2.get_course())\n",
    "print(Demo.display())\n",
    "        "
   ]
  },
  {
   "cell_type": "markdown",
   "id": "36539654-f1c7-47d5-9c59-4882fdfc5da3",
   "metadata": {},
   "source": [
    "# @Static Method Programs\n",
    "#### This method we need static methods when the processing is at the class level but we need not involve the class or instances.\n",
    "#### Static Methods are used when some processing is related to the class but not need the clas or its instances to perform any work."
   ]
  },
  {
   "cell_type": "code",
   "execution_count": 8,
   "id": "954c6dc7-1a3b-4f0d-8b3a-993cee3c7608",
   "metadata": {},
   "outputs": [
    {
     "name": "stdout",
     "output_type": "stream",
     "text": [
      "No. of instances created 4\n"
     ]
    }
   ],
   "source": [
    "class Info:\n",
    "    n=0\n",
    "    def __init__(self):\n",
    "        Info.n=Info.n+1\n",
    "    @staticmethod\n",
    "    def noObjects():\n",
    "        print(\"No. of instances created\",Info.n)\n",
    "\n",
    "i=Info()\n",
    "i1=Info()\n",
    "i2=Info()\n",
    "i3=Info()\n",
    "Info.noObjects()\n",
    "        "
   ]
  },
  {
   "cell_type": "code",
   "execution_count": 13,
   "id": "7e3eee65-25d3-4fdb-a52b-dad509200c7d",
   "metadata": {},
   "outputs": [
    {
     "name": "stdin",
     "output_type": "stream",
     "text": [
      "Enter the Number 12\n"
     ]
    },
    {
     "name": "stdout",
     "output_type": "stream",
     "text": [
      "the squre root of 12.0 is 3.46\n"
     ]
    }
   ],
   "source": [
    "import math\n",
    "class Square:\n",
    "    @staticmethod\n",
    "    def calculate(x):\n",
    "        result=math.sqrt(x)\n",
    "        return result\n",
    "n=float(input(\"Enter the Number\"))\n",
    "\n",
    "res=Square.calculate(n)\n",
    "print(\"the squre root of {} is {:.2f}\".format(n,res))"
   ]
  },
  {
   "cell_type": "markdown",
   "id": "76194eab-6526-4a7f-acf9-fcb62241c692",
   "metadata": {},
   "source": [
    "# Multiple Data Input in Row"
   ]
  },
  {
   "cell_type": "markdown",
   "id": "ca747502-d0cb-47d0-afee-e70c8c5ebb1b",
   "metadata": {},
   "source": [
    "#### Using Global Variables"
   ]
  },
  {
   "cell_type": "code",
   "execution_count": 2,
   "id": "e704345c-28fa-4b6b-8430-64799f04ab40",
   "metadata": {},
   "outputs": [
    {
     "name": "stdin",
     "output_type": "stream",
     "text": [
      "No. of Records:  1\n",
      "Employee Name:  abc\n",
      "Enter Age:  23\n",
      "Salary:  23000\n",
      "No. of Working Days:  26\n"
     ]
    },
    {
     "name": "stdout",
     "output_type": "stream",
     "text": [
      "--------------------------------\n",
      "Name: abc\n",
      "Age: 23\n",
      "Total Salary: 23000.0\n",
      "Working Days: 26\n",
      "---------------------------------\n"
     ]
    }
   ],
   "source": [
    "class One:\n",
    "    def getInfo(self):\n",
    "        global name, age, n\n",
    "        name = []\n",
    "        age = []\n",
    "        global num \n",
    "        num = int(input(\"No. of Records: \"))\n",
    "        for i in range(num):\n",
    "            n = input(\"Employee Name: \")\n",
    "            a = int(input(\"Enter Age: \"))\n",
    "            name.append(n)\n",
    "            age.append(a)\n",
    "\n",
    "\n",
    "class Two(One):\n",
    "    def setSalary(self):\n",
    "        global salary, now\n",
    "        salary = []\n",
    "        now = []\n",
    "        for i in range(num):\n",
    "            s = int(input(\"Salary: \"))\n",
    "            wd = int(input(\"No. of Working Days: \"))\n",
    "            salary.append(s)\n",
    "            now.append(wd) \n",
    "\n",
    "\n",
    "class Three(Two):\n",
    "    def show(self):\n",
    "        print(\"--------------------------------\")\n",
    "        for i in range(num):\n",
    "            print(\"Name:\", name[i])\n",
    "            print(\"Age:\", age[i])\n",
    "            nsal = salary[i] / 26 * now[i] \n",
    "            print(\"Total Salary:\", nsal)\n",
    "            print(\"Working Days:\", now[i])  \n",
    "            print(\"---------------------------------\")\n",
    "\n",
    "\n",
    "obj = Three()\n",
    "obj.getInfo()\n",
    "obj.setSalary()\n",
    "obj.show()\n"
   ]
  },
  {
   "cell_type": "markdown",
   "id": "c3ff7200-1387-4a6f-89ec-df7e541c15b8",
   "metadata": {},
   "source": [
    "# Encapsulation"
   ]
  },
  {
   "cell_type": "code",
   "execution_count": 7,
   "id": "a3b04b31-3f18-4af7-949c-a0544a5218a9",
   "metadata": {},
   "outputs": [
    {
     "name": "stdout",
     "output_type": "stream",
     "text": [
      "set is now called\n",
      "get is called now\n",
      "User1\n"
     ]
    }
   ],
   "source": [
    "class Test:\n",
    "    def __init__(self):\n",
    "        self.__name='User'\n",
    "\n",
    "    def setName(self,name):\n",
    "        print(\"set is now called\")\n",
    "        self.__name=name\n",
    "    def getName(self):\n",
    "        print(\"get is called now\")\n",
    "        return self.__name\n",
    "\n",
    "\n",
    "    cname=property(getName,setName)\n",
    "\n",
    "obj=Test()\n",
    "obj.cname=\"User1\"\n",
    "print(obj.cname)"
   ]
  },
  {
   "cell_type": "markdown",
   "id": "b4e3e8b7-3116-4af6-9369-bec70b380bcc",
   "metadata": {},
   "source": [
    "# Polymorphism"
   ]
  },
  {
   "cell_type": "markdown",
   "id": "d5fe98f6-b31a-489b-9059-140f5f03d98b",
   "metadata": {},
   "source": [
    "#### Polymorphism means many forms.lets take a example -> we have wheat flour. Using this wheat flour,we can make burgers,rotis,or loaves of bread.It means same wheat flour is taking diffrent edible forms and hence we can say wheat flour is exhibiting polymorphism."
   ]
  },
  {
   "cell_type": "markdown",
   "id": "8e9bf9c0-73d9-4f8c-9235-b3be5c95d7a9",
   "metadata": {},
   "source": [
    "### python has built-in polymorphism. The following topics are examples for polymorphism in Python.\n",
    "#### 1.Duck Typing philosophy of python\n",
    "#### 2.Operator overloading\n",
    "#### 3.Method overloading\n",
    "#### 4.Method overriding"
   ]
  },
  {
   "cell_type": "code",
   "execution_count": 5,
   "id": "67a3dede-62ee-4f30-a09e-bb7224688926",
   "metadata": {},
   "outputs": [
    {
     "name": "stdout",
     "output_type": "stream",
     "text": [
      "Quack,Quack\n",
      "Hello!,Hii!\n"
     ]
    }
   ],
   "source": [
    "class Duck:\n",
    "    def talk(self):\n",
    "        print(\"Quack,Quack\")\n",
    "class Human:\n",
    "    def talk(self):\n",
    "        print(\"Hello!,Hii!\")\n",
    "\n",
    "# def call_talk(obj):\n",
    "#     obj.talk()\n",
    "\n",
    "x=Duck()\n",
    "x.talk()\n",
    "y=Human()\n",
    "y.talk()"
   ]
  },
  {
   "cell_type": "markdown",
   "id": "9fb72dd6-8021-4d97-858b-8e3b55937d9e",
   "metadata": {},
   "source": [
    "## Operator Overloading"
   ]
  },
  {
   "cell_type": "markdown",
   "id": "e2ae25d7-ca56-4303-8790-599850e79da0",
   "metadata": {},
   "source": [
    "##### we can use the + operator to work with user-defined objects as well. This feature in Python, which allows the same operator to have different meanings depending on the context is called operator overloading.In Python, methods that have two underscores, __, before and after their names have a special meaning. For example, __add__(), __len__() etc.\r\n",
    "These special methods can be used to implement certain features or behaviors."
   ]
  },
  {
   "cell_type": "code",
   "execution_count": 8,
   "id": "8ec12198-976f-4548-bb5d-4e416f0e4073",
   "metadata": {},
   "outputs": [
    {
     "ename": "TypeError",
     "evalue": "unsupported operand type(s) for +: 'Book1' and 'Book2'",
     "output_type": "error",
     "traceback": [
      "\u001b[1;31m---------------------------------------------------------------------------\u001b[0m",
      "\u001b[1;31mTypeError\u001b[0m                                 Traceback (most recent call last)",
      "Cell \u001b[1;32mIn[8], line 13\u001b[0m\n\u001b[0;32m     11\u001b[0m b1\u001b[38;5;241m=\u001b[39mBook1(\u001b[38;5;241m200\u001b[39m)\n\u001b[0;32m     12\u001b[0m b2\u001b[38;5;241m=\u001b[39mBook2(\u001b[38;5;241m500\u001b[39m)\n\u001b[1;32m---> 13\u001b[0m \u001b[38;5;28mprint\u001b[39m(\u001b[38;5;124m\"\u001b[39m\u001b[38;5;124mTotal Books\u001b[39m\u001b[38;5;124m\"\u001b[39m,b1\u001b[38;5;241m+\u001b[39mb2)\n",
      "\u001b[1;31mTypeError\u001b[0m: unsupported operand type(s) for +: 'Book1' and 'Book2'"
     ]
    }
   ],
   "source": [
    "#Programs 1\n",
    "\n",
    "class Book1:\n",
    "    def __init__(self,pages):\n",
    "        self.pages=pages\n",
    "\n",
    "class Book2:\n",
    "    def __init__(self,pages):\n",
    "        self.pages=pages\n",
    "\n",
    "b1=Book1(200)\n",
    "b2=Book2(500)\n",
    "print(\"Total Books\",b1+b2)"
   ]
  },
  {
   "cell_type": "code",
   "execution_count": 9,
   "id": "184b5891-a3e4-4f2b-bfa9-a6741e6b75b3",
   "metadata": {},
   "outputs": [
    {
     "name": "stdout",
     "output_type": "stream",
     "text": [
      "Total Books 700\n"
     ]
    }
   ],
   "source": [
    "class Book1:\n",
    "    def __init__(self,pages):\n",
    "        self.pages=pages\n",
    "\n",
    "    def __add__(self,other):\n",
    "        return self.pages+other.pages\n",
    "\n",
    "class Book2:\n",
    "    def __init__(self,pages):\n",
    "        self.pages=pages\n",
    "\n",
    "b1=Book1(200)\n",
    "b2=Book2(500)\n",
    "print(\"Total Books\",b1+b2)"
   ]
  },
  {
   "cell_type": "code",
   "execution_count": 10,
   "id": "b0ec37a0-7162-46f1-bcb1-cef95b4f313d",
   "metadata": {},
   "outputs": [
    {
     "name": "stdout",
     "output_type": "stream",
     "text": [
      "Book1 has more pages\n"
     ]
    }
   ],
   "source": [
    "class Book1:\n",
    "    def __init__(self,pages):\n",
    "        self.pages=pages\n",
    "\n",
    "    def __gt__(self,other):#greater than\n",
    "        return self.pages>other.pages\n",
    "\n",
    "class Book2:\n",
    "    def __init__(self,pages):\n",
    "        self.pages=pages\n",
    "\n",
    "\n",
    "b1=Book1(2000)\n",
    "b2=Book2(1000)\n",
    "if b1>b2:\n",
    "    print(\"Book1 has more pages\")\n",
    "else:\n",
    "    print(\"Book2 has more Pages\")"
   ]
  },
  {
   "cell_type": "code",
   "execution_count": 13,
   "id": "8c9790b6-e047-47aa-bdf7-5d2a70ced3ca",
   "metadata": {},
   "outputs": [
    {
     "name": "stdout",
     "output_type": "stream",
     "text": [
      "Both book havep ages 2000\n"
     ]
    }
   ],
   "source": [
    "class Book1:\n",
    "    def __init__(self,pages):\n",
    "        self.pages=pages\n",
    "\n",
    "    def __mul__(self,other):\n",
    "        return self.pages*other.pages\n",
    "\n",
    "class Book2:\n",
    "    def __init__(self,pages):\n",
    "        self.pages=pages\n",
    "\n",
    "\n",
    "b1=Book1(20)\n",
    "b2=Book2(100)\n",
    "print(\"Both book havep ages\",b1*b2)"
   ]
  },
  {
   "cell_type": "code",
   "execution_count": null,
   "id": "4a3bcff9-b59b-4386-8e1f-9afa46836a81",
   "metadata": {},
   "outputs": [],
   "source": [
    "##Polymorphism\n",
    "\n",
    "\"\"\"That Poly mean -> many morphism means -> forms\n",
    "And Simple word a methos can be used many type\"\"\"\n",
    "\n",
    "#Example\n",
    "\n",
    "def add(a,b):\n",
    "    return a+b\n",
    "\n",
    "print(add(10,5))\n",
    "\n",
    "print(add(\"Rajesh\",\" Kumar\"))\n",
    "\n",
    "print(add(10.5,0.5))"
   ]
  },
  {
   "cell_type": "markdown",
   "id": "7cebc2ca-3e43-4a50-92dc-9412e1890e48",
   "metadata": {},
   "source": [
    "## Method Overloading:\r\n",
    "#### \r\n",
    "Two or more methods have the same name but different numbers of parameters or different types of parameters, or both. These methods are called overloaded methods and this is called method overloadinLike other languages method overloading do, python does not support method overloading by default. But there are different ways to achieve method overloading in Python. \r\n",
    "The problem with method overloading in Python is that we may overload the methods but can only use the latest defined method.g."
   ]
  },
  {
   "cell_type": "code",
   "execution_count": 19,
   "id": "9bd4736a-1e43-4faf-8b33-47d41602a30a",
   "metadata": {},
   "outputs": [
    {
     "name": "stdout",
     "output_type": "stream",
     "text": [
      "Sum of Three= 9\n",
      "Sum of Three= 6\n",
      "Sum of Three= Naurangi\n"
     ]
    }
   ],
   "source": [
    "def sum(a=None,b=None,c=None):\n",
    "    if a!=None and b!=None and c!=None:\n",
    "        print(\"Sum of Three=\",a+b+c)\n",
    "    else:\n",
    "        print(\"Sum of two=\",a+b)\n",
    "sum(2,3,4)\n",
    "sum(2,0,4)\n",
    "sum('Nau','ran','gi')"
   ]
  },
  {
   "cell_type": "code",
   "execution_count": 23,
   "id": "aebc4610-031a-459a-847f-6fb1aee96cf0",
   "metadata": {},
   "outputs": [
    {
     "name": "stdout",
     "output_type": "stream",
     "text": [
      "Sum of Three = 9\n",
      "Sum of Three = 11\n"
     ]
    }
   ],
   "source": [
    "class Data:\n",
    "    def sum(self, a, b, c):\n",
    "        if None in (a, b, c):\n",
    "            print(\"All args must be in\")\n",
    "        else:\n",
    "            print(\"Sum of Three =\", a + b + c)\n",
    "x = Data()\n",
    "x.sum(2, 3, 4)\n",
    "x.sum(0,2,9)"
   ]
  },
  {
   "cell_type": "code",
   "execution_count": 25,
   "id": "82ca99ff-2b00-4d59-9ea2-91a74cdf0e0a",
   "metadata": {},
   "outputs": [
    {
     "name": "stdout",
     "output_type": "stream",
     "text": [
      "Sum of three is = 9\n",
      "Sum of two no.= 4\n"
     ]
    }
   ],
   "source": [
    "class MyClass:\n",
    "    def sum(self,a,b,c):\n",
    "        if a and b and c:\n",
    "            print(\"Sum of three is =\",a+b+c)\n",
    "        elif a and b:\n",
    "            print(\"Sum of two no.=\",a+b)\n",
    "        else:\n",
    "            print(\"Please enter two or three args\")\n",
    "\n",
    "x=MyClass()\n",
    "x.sum(1,3,5)\n",
    "x.sum(1,3,0)"
   ]
  },
  {
   "cell_type": "markdown",
   "id": "747a98c5-f538-4dd0-96df-3acf66772d20",
   "metadata": {},
   "source": [
    "# Method Overriding\n",
    "#### Method overriding in Python allows a subclass to provide a specific implementation of a method that is already defined in its superclass. This is a key feature of object-oriented programming that supports polymorphism."
   ]
  },
  {
   "cell_type": "code",
   "execution_count": 26,
   "id": "d53e1ed7-4b44-4cd4-a868-1cc2affab52a",
   "metadata": {},
   "outputs": [
    {
     "name": "stdout",
     "output_type": "stream",
     "text": [
      "Bark\n",
      "Meow\n"
     ]
    }
   ],
   "source": [
    "class Animal:\n",
    "    def sound(self):\n",
    "        return \"Some sound\"\n",
    "\n",
    "class Dog(Animal):\n",
    "    def sound(self):\n",
    "        return \"Bark\"\n",
    "\n",
    "class Cat(Animal):\n",
    "    def sound(self):\n",
    "        return \"Meow\"\n",
    "\n",
    "dog = Dog()\n",
    "cat = Cat()\n",
    "\n",
    "print(dog.sound())  \n",
    "print(cat.sound())  \n"
   ]
  },
  {
   "cell_type": "code",
   "execution_count": 27,
   "id": "d06bc547-328c-41ec-a9f8-21bd684cbb3d",
   "metadata": {},
   "outputs": [
    {
     "name": "stdout",
     "output_type": "stream",
     "text": [
      "This is a Toyota Corolla\n",
      "This is a bike from Yamaha\n"
     ]
    }
   ],
   "source": [
    "class Vehicle:\n",
    "    def __init__(self, brand):\n",
    "        self.brand = brand\n",
    "    \n",
    "    def info(self):\n",
    "        return f\"This is a vehicle from {self.brand}\"\n",
    "\n",
    "class Car(Vehicle):\n",
    "    def __init__(self, brand, model):\n",
    "        super().__init__(brand)  # Call the parent constructor\n",
    "        self.model = model\n",
    "\n",
    "    def info(self):\n",
    "        return f\"This is a {self.brand} {self.model}\"\n",
    "\n",
    "class Bike(Vehicle):\n",
    "    def info(self):\n",
    "        return f\"This is a bike from {self.brand}\"\n",
    "\n",
    "\n",
    "car = Car(\"Toyota\", \"Corolla\")\n",
    "bike = Bike(\"Yamaha\")\n",
    "\n",
    "# Call the overridden methods\n",
    "print(car.info())  \n",
    "print(bike.info()) \n"
   ]
  },
  {
   "cell_type": "code",
   "execution_count": null,
   "id": "0ed11a35-525f-4713-a949-7ddaa0f3ca50",
   "metadata": {},
   "outputs": [],
   "source": []
  },
  {
   "cell_type": "code",
   "execution_count": 28,
   "id": "3348f036-77b5-41c0-8a36-2a2374e5ed22",
   "metadata": {},
   "outputs": [
    {
     "name": "stdout",
     "output_type": "stream",
     "text": [
      "\n",
      "Library Management System\n",
      "1. Add Book\n",
      "2. Add Member\n",
      "3. Borrow Book\n",
      "4. Return Book\n",
      "5. Display Books\n",
      "6. Display Members\n",
      "7. Exit\n"
     ]
    },
    {
     "name": "stdin",
     "output_type": "stream",
     "text": [
      "Choose an option:  1\n",
      "Enter book title:  Budi Kaki\n",
      "Enter book author:  Munsi Prem Chand\n",
      "Enter book type (Fiction/NonFiction):  Fiction\n"
     ]
    },
    {
     "name": "stdout",
     "output_type": "stream",
     "text": [
      "\n",
      "Library Management System\n",
      "1. Add Book\n",
      "2. Add Member\n",
      "3. Borrow Book\n",
      "4. Return Book\n",
      "5. Display Books\n",
      "6. Display Members\n",
      "7. Exit\n"
     ]
    },
    {
     "name": "stdin",
     "output_type": "stream",
     "text": [
      "Choose an option:  2\n",
      "Enter member name:  user\n",
      "Enter member type (Student/Teacher):  student\n"
     ]
    },
    {
     "name": "stdout",
     "output_type": "stream",
     "text": [
      "\n",
      "Library Management System\n",
      "1. Add Book\n",
      "2. Add Member\n",
      "3. Borrow Book\n",
      "4. Return Book\n",
      "5. Display Books\n",
      "6. Display Members\n",
      "7. Exit\n"
     ]
    },
    {
     "name": "stdin",
     "output_type": "stream",
     "text": [
      "Choose an option:  5\n"
     ]
    },
    {
     "name": "stdout",
     "output_type": "stream",
     "text": [
      "Fiction: Budi Kaki by Munsi Prem Chand\n",
      "\n",
      "Library Management System\n",
      "1. Add Book\n",
      "2. Add Member\n",
      "3. Borrow Book\n",
      "4. Return Book\n",
      "5. Display Books\n",
      "6. Display Members\n",
      "7. Exit\n"
     ]
    },
    {
     "name": "stdin",
     "output_type": "stream",
     "text": [
      "Choose an option:  5\n"
     ]
    },
    {
     "name": "stdout",
     "output_type": "stream",
     "text": [
      "Fiction: Budi Kaki by Munsi Prem Chand\n",
      "\n",
      "Library Management System\n",
      "1. Add Book\n",
      "2. Add Member\n",
      "3. Borrow Book\n",
      "4. Return Book\n",
      "5. Display Books\n",
      "6. Display Members\n",
      "7. Exit\n"
     ]
    },
    {
     "name": "stdin",
     "output_type": "stream",
     "text": [
      "Choose an option:  6\n"
     ]
    },
    {
     "name": "stdout",
     "output_type": "stream",
     "text": [
      "Student: user\n",
      "\n",
      "Library Management System\n",
      "1. Add Book\n",
      "2. Add Member\n",
      "3. Borrow Book\n",
      "4. Return Book\n",
      "5. Display Books\n",
      "6. Display Members\n",
      "7. Exit\n"
     ]
    },
    {
     "name": "stdin",
     "output_type": "stream",
     "text": [
      "Choose an option:  7\n"
     ]
    },
    {
     "name": "stdout",
     "output_type": "stream",
     "text": [
      "Exiting the system. Goodbye!\n"
     ]
    }
   ],
   "source": [
    "from abc import ABC, abstractmethod\n",
    "\n",
    "class Book(ABC):\n",
    "    def __init__(self, title, author):\n",
    "        self.__title = title\n",
    "        self.__author = author\n",
    "    \n",
    "    @abstractmethod\n",
    "    def get_book_info(self):\n",
    "        pass\n",
    "    \n",
    "    def get_title(self):\n",
    "        return self.__title\n",
    "\n",
    "    def get_author(self):\n",
    "        return self.__author\n",
    "\n",
    "class FictionBook(Book):\n",
    "    def get_book_info(self):\n",
    "        return f\"Fiction: {self.get_title()} by {self.get_author()}\"\n",
    "\n",
    "class NonFictionBook(Book):\n",
    "    def get_book_info(self):\n",
    "        return f\"Non-Fiction: {self.get_title()} by {self.get_author()}\"\n",
    "\n",
    "class Member(ABC):\n",
    "    def __init__(self, name):\n",
    "        self.__name = name\n",
    "    \n",
    "    @abstractmethod\n",
    "    def get_member_info(self):\n",
    "        pass\n",
    "    \n",
    "    def get_name(self):\n",
    "        return self.__name\n",
    "\n",
    "class Student(Member):\n",
    "    def get_member_info(self):\n",
    "        return f\"Student: {self.get_name()}\"\n",
    "\n",
    "class Teacher(Member):\n",
    "    def get_member_info(self):\n",
    "        return f\"Teacher: {self.get_name()}\"\n",
    "\n",
    "class Library:\n",
    "    def __init__(self):\n",
    "        self.books = []\n",
    "        self.members = []\n",
    "\n",
    "    def add_book(self, book: Book):\n",
    "        self.books.append(book)\n",
    "\n",
    "    def add_member(self, member: Member):\n",
    "        self.members.append(member)\n",
    "\n",
    "    def borrow_book(self, member_name, book_title):\n",
    "        for member in self.members:\n",
    "            if member.get_name() == member_name:\n",
    "                for book in self.books:\n",
    "                    if book.get_title() == book_title:\n",
    "                        print(f\"{member.get_name()} borrowed {book.get_title()}.\")\n",
    "                        return\n",
    "        print(\"Member or book not found.\")\n",
    "\n",
    "    def return_book(self, member_name, book_title):\n",
    "        print(f\"{member_name} returned {book_title}.\")  \n",
    "    def display_books(self):\n",
    "        if not self.books:\n",
    "            print(\"No books available.\")\n",
    "            return\n",
    "        for book in self.books:\n",
    "            print(book.get_book_info())\n",
    "\n",
    "    def display_members(self):\n",
    "        if not self.members:\n",
    "            print(\"No members registered.\")\n",
    "            return\n",
    "        for member in self.members:\n",
    "            print(member.get_member_info())\n",
    "\n",
    "\n",
    "library = Library()\n",
    "\n",
    "while True:\n",
    "    \n",
    "    print(\"\\nLibrary Management System\")\n",
    "    print(\"1. Add Book\")\n",
    "    print(\"2. Add Member\")\n",
    "    print(\"3. Borrow Book\")\n",
    "    print(\"4. Return Book\")\n",
    "    print(\"5. Display Books\")\n",
    "    print(\"6. Display Members\")\n",
    "    print(\"7. Exit\")\n",
    "    \n",
    "    choice = input(\"Choose an option: \")\n",
    "    \n",
    "    if choice == '1':\n",
    "        title = input(\"Enter book title: \")\n",
    "        author = input(\"Enter book author: \")\n",
    "        book_type = input(\"Enter book type (Fiction/NonFiction): \").strip().lower()\n",
    "        if book_type == 'fiction':\n",
    "            library.add_book(FictionBook(title, author))\n",
    "        elif book_type == 'nonfiction':\n",
    "            library.add_book(NonFictionBook(title, author))\n",
    "        else:\n",
    "            print(\"Invalid book type.\")\n",
    "    \n",
    "    elif choice == '2':\n",
    "        name = input(\"Enter member name: \")\n",
    "        member_type = input(\"Enter member type (Student/Teacher): \").strip().lower()\n",
    "        if member_type == 'student':\n",
    "            library.add_member(Student(name))\n",
    "        elif member_type == 'teacher':\n",
    "            library.add_member(Teacher(name))\n",
    "        else:\n",
    "            print(\"Invalid member type.\")\n",
    "    \n",
    "    elif choice == '3':\n",
    "        member_name = input(\"Enter member name: \")\n",
    "        book_title = input(\"Enter book title to borrow: \")\n",
    "        library.borrow_book(member_name, book_title)\n",
    "    \n",
    "    elif choice == '4':\n",
    "        member_name = input(\"Enter member name: \")\n",
    "        book_title = input(\"Enter book title to return: \")\n",
    "        library.return_book(member_name, book_title)\n",
    "    \n",
    "    elif choice == '5':\n",
    "        library.display_books()\n",
    "    \n",
    "    elif choice == '6':\n",
    "        library.display_members()\n",
    "    \n",
    "    elif choice == '7':\n",
    "        print(\"Exiting the system. Goodbye!\")\n",
    "        break\n",
    "    \n",
    "    else:\n",
    "        print(\"Invalid choice. Please try again.\")\n",
    "\n"
   ]
  },
  {
   "cell_type": "markdown",
   "id": "3135ecff-dbde-4f59-b72d-1743669bd545",
   "metadata": {},
   "source": [
    "# Exception Handling"
   ]
  },
  {
   "cell_type": "code",
   "execution_count": 9,
   "id": "15178d70-f8d4-437e-937b-ccda2c1f5948",
   "metadata": {},
   "outputs": [
    {
     "name": "stdin",
     "output_type": "stream",
     "text": [
      "Enter first no. 1\n",
      "Enter second no. 0\n"
     ]
    },
    {
     "name": "stdout",
     "output_type": "stream",
     "text": [
      "Error is : integer division or modulo by zero\n"
     ]
    }
   ],
   "source": [
    "def div(a,b):\n",
    "    try:\n",
    "        c=a//b\n",
    "        print(\"Division of two anumber is \",c)\n",
    "    except ZeroDivisionError as e:\n",
    "        print(\"Error is :\",e)\n",
    "a=int(input(\"Enter first no.\"))\n",
    "b=int(input(\"Enter second no.\"))\n",
    "div(a,b)\n",
    "        "
   ]
  },
  {
   "cell_type": "code",
   "execution_count": 20,
   "id": "88087132-b94d-4ab6-84ea-8b83267e6763",
   "metadata": {},
   "outputs": [
    {
     "name": "stdout",
     "output_type": "stream",
     "text": [
      "0 -> R\n",
      "1 -> E\n",
      "2 -> J\n",
      "3 -> M\n",
      "4 -> K\n",
      "5 -> U\n",
      "list index out of range\n"
     ]
    }
   ],
   "source": [
    "nlist=['R','E','J','M','K','U']\n",
    "\n",
    "try:\n",
    "    for i in range(0,len(nlist)+1):\n",
    "        print(i,\"->\",mlist[i])\n",
    "except IndexError as id:\n",
    "    print(id)"
   ]
  },
  {
   "cell_type": "code",
   "execution_count": null,
   "id": "5c393b4f-5f0a-46f4-a62b-1afed50eb5ee",
   "metadata": {},
   "outputs": [],
   "source": []
  }
 ],
 "metadata": {
  "kernelspec": {
   "display_name": "Python 3 (ipykernel)",
   "language": "python",
   "name": "python3"
  },
  "language_info": {
   "codemirror_mode": {
    "name": "ipython",
    "version": 3
   },
   "file_extension": ".py",
   "mimetype": "text/x-python",
   "name": "python",
   "nbconvert_exporter": "python",
   "pygments_lexer": "ipython3",
   "version": "3.12.4"
  }
 },
 "nbformat": 4,
 "nbformat_minor": 5
}
